{
 "cells": [
  {
   "cell_type": "code",
   "execution_count": 1,
   "metadata": {},
   "outputs": [
    {
     "name": "stderr",
     "output_type": "stream",
     "text": [
      "/Users/mac/anaconda3/lib/python3.7/site-packages/pandas/compat/_optional.py:138: UserWarning: Pandas requires version '2.7.0' or newer of 'numexpr' (version '2.6.8' currently installed).\n",
      "  warnings.warn(msg, UserWarning)\n"
     ]
    }
   ],
   "source": [
    "# importation of libraries\n",
    "import pandas as pd\n",
    "import numpy as np\n",
    "import matplotlib.pyplot as plt\n",
    "import seaborn as sns\n",
    "from ast import literal_eval\n",
    "from wordcloud import WordCloud\n",
    "from collections import Counter\n",
    "from sklearn.metrics.pairwise import cosine_similarity\n",
    "from sklearn.feature_extraction.text import TfidfVectorizer\n",
    "from surprise import SVD, KNNBasic, SVD, SVDpp, SlopeOne, NMF, NormalPredictor, KNNBaseline\n",
    "from surprise import Dataset\n",
    "from surprise import Reader\n",
    "from surprise.model_selection import cross_validate\n",
    "from sklearn.metrics import precision_recall_fscore_support\n",
    "from sklearn.model_selection import train_test_split\n",
    "from sklearn.metrics import mean_absolute_error, mean_squared_error, precision_score, recall_score, f1_score,accuracy_score\n",
    "import time"
   ]
  },
  {
   "cell_type": "code",
   "execution_count": 2,
   "metadata": {},
   "outputs": [],
   "source": [
    "#Load the dataset\n",
    "movies = pd.read_csv('imdb_top_1000.csv')"
   ]
  },
  {
   "cell_type": "code",
   "execution_count": 3,
   "metadata": {},
   "outputs": [
    {
     "data": {
      "text/html": [
       "<div>\n",
       "<style scoped>\n",
       "    .dataframe tbody tr th:only-of-type {\n",
       "        vertical-align: middle;\n",
       "    }\n",
       "\n",
       "    .dataframe tbody tr th {\n",
       "        vertical-align: top;\n",
       "    }\n",
       "\n",
       "    .dataframe thead th {\n",
       "        text-align: right;\n",
       "    }\n",
       "</style>\n",
       "<table border=\"1\" class=\"dataframe\">\n",
       "  <thead>\n",
       "    <tr style=\"text-align: right;\">\n",
       "      <th></th>\n",
       "      <th>MovieID</th>\n",
       "      <th>Poster_Link</th>\n",
       "      <th>Series_Title</th>\n",
       "      <th>Released_Year</th>\n",
       "      <th>Certificate</th>\n",
       "      <th>Runtime</th>\n",
       "      <th>Genre</th>\n",
       "      <th>IMDB_Rating</th>\n",
       "      <th>Overview</th>\n",
       "      <th>Meta_score</th>\n",
       "      <th>Director</th>\n",
       "      <th>Star1</th>\n",
       "      <th>Star2</th>\n",
       "      <th>Star3</th>\n",
       "      <th>Star4</th>\n",
       "      <th>No_of_Votes</th>\n",
       "      <th>Gross</th>\n",
       "    </tr>\n",
       "  </thead>\n",
       "  <tbody>\n",
       "    <tr>\n",
       "      <th>0</th>\n",
       "      <td>1</td>\n",
       "      <td>https://m.media-amazon.com/images/M/MV5BMDFkYT...</td>\n",
       "      <td>The Shawshank Redemption</td>\n",
       "      <td>1994</td>\n",
       "      <td>A</td>\n",
       "      <td>142 min</td>\n",
       "      <td>Drama</td>\n",
       "      <td>9.3</td>\n",
       "      <td>Two imprisoned men bond over a number of years...</td>\n",
       "      <td>80.0</td>\n",
       "      <td>Frank Darabont</td>\n",
       "      <td>Tim Robbins</td>\n",
       "      <td>Morgan Freeman</td>\n",
       "      <td>Bob Gunton</td>\n",
       "      <td>William Sadler</td>\n",
       "      <td>2343110</td>\n",
       "      <td>28,341,469</td>\n",
       "    </tr>\n",
       "    <tr>\n",
       "      <th>1</th>\n",
       "      <td>2</td>\n",
       "      <td>https://m.media-amazon.com/images/M/MV5BM2MyNj...</td>\n",
       "      <td>The Godfather</td>\n",
       "      <td>1972</td>\n",
       "      <td>A</td>\n",
       "      <td>175 min</td>\n",
       "      <td>Crime, Drama</td>\n",
       "      <td>9.2</td>\n",
       "      <td>An organized crime dynasty's aging patriarch t...</td>\n",
       "      <td>100.0</td>\n",
       "      <td>Francis Ford Coppola</td>\n",
       "      <td>Marlon Brando</td>\n",
       "      <td>Al Pacino</td>\n",
       "      <td>James Caan</td>\n",
       "      <td>Diane Keaton</td>\n",
       "      <td>1620367</td>\n",
       "      <td>134,966,411</td>\n",
       "    </tr>\n",
       "    <tr>\n",
       "      <th>2</th>\n",
       "      <td>3</td>\n",
       "      <td>https://m.media-amazon.com/images/M/MV5BMTMxNT...</td>\n",
       "      <td>The Dark Knight</td>\n",
       "      <td>2008</td>\n",
       "      <td>UA</td>\n",
       "      <td>152 min</td>\n",
       "      <td>Action, Crime, Drama</td>\n",
       "      <td>9.0</td>\n",
       "      <td>When the menace known as the Joker wreaks havo...</td>\n",
       "      <td>84.0</td>\n",
       "      <td>Christopher Nolan</td>\n",
       "      <td>Christian Bale</td>\n",
       "      <td>Heath Ledger</td>\n",
       "      <td>Aaron Eckhart</td>\n",
       "      <td>Michael Caine</td>\n",
       "      <td>2303232</td>\n",
       "      <td>534,858,444</td>\n",
       "    </tr>\n",
       "    <tr>\n",
       "      <th>3</th>\n",
       "      <td>4</td>\n",
       "      <td>https://m.media-amazon.com/images/M/MV5BMWMwMG...</td>\n",
       "      <td>The Godfather: Part II</td>\n",
       "      <td>1974</td>\n",
       "      <td>A</td>\n",
       "      <td>202 min</td>\n",
       "      <td>Crime, Drama</td>\n",
       "      <td>9.0</td>\n",
       "      <td>The early life and career of Vito Corleone in ...</td>\n",
       "      <td>90.0</td>\n",
       "      <td>Francis Ford Coppola</td>\n",
       "      <td>Al Pacino</td>\n",
       "      <td>Robert De Niro</td>\n",
       "      <td>Robert Duvall</td>\n",
       "      <td>Diane Keaton</td>\n",
       "      <td>1129952</td>\n",
       "      <td>57,300,000</td>\n",
       "    </tr>\n",
       "    <tr>\n",
       "      <th>4</th>\n",
       "      <td>5</td>\n",
       "      <td>https://m.media-amazon.com/images/M/MV5BMWU4N2...</td>\n",
       "      <td>12 Angry Men</td>\n",
       "      <td>1957</td>\n",
       "      <td>U</td>\n",
       "      <td>96 min</td>\n",
       "      <td>Crime, Drama</td>\n",
       "      <td>9.0</td>\n",
       "      <td>A jury holdout attempts to prevent a miscarria...</td>\n",
       "      <td>96.0</td>\n",
       "      <td>Sidney Lumet</td>\n",
       "      <td>Henry Fonda</td>\n",
       "      <td>Lee J. Cobb</td>\n",
       "      <td>Martin Balsam</td>\n",
       "      <td>John Fiedler</td>\n",
       "      <td>689845</td>\n",
       "      <td>4,360,000</td>\n",
       "    </tr>\n",
       "  </tbody>\n",
       "</table>\n",
       "</div>"
      ],
      "text/plain": [
       "   MovieID                                        Poster_Link  \\\n",
       "0        1  https://m.media-amazon.com/images/M/MV5BMDFkYT...   \n",
       "1        2  https://m.media-amazon.com/images/M/MV5BM2MyNj...   \n",
       "2        3  https://m.media-amazon.com/images/M/MV5BMTMxNT...   \n",
       "3        4  https://m.media-amazon.com/images/M/MV5BMWMwMG...   \n",
       "4        5  https://m.media-amazon.com/images/M/MV5BMWU4N2...   \n",
       "\n",
       "               Series_Title Released_Year Certificate  Runtime  \\\n",
       "0  The Shawshank Redemption          1994           A  142 min   \n",
       "1             The Godfather          1972           A  175 min   \n",
       "2           The Dark Knight          2008          UA  152 min   \n",
       "3    The Godfather: Part II          1974           A  202 min   \n",
       "4              12 Angry Men          1957           U   96 min   \n",
       "\n",
       "                  Genre  IMDB_Rating  \\\n",
       "0                 Drama          9.3   \n",
       "1          Crime, Drama          9.2   \n",
       "2  Action, Crime, Drama          9.0   \n",
       "3          Crime, Drama          9.0   \n",
       "4          Crime, Drama          9.0   \n",
       "\n",
       "                                            Overview  Meta_score  \\\n",
       "0  Two imprisoned men bond over a number of years...        80.0   \n",
       "1  An organized crime dynasty's aging patriarch t...       100.0   \n",
       "2  When the menace known as the Joker wreaks havo...        84.0   \n",
       "3  The early life and career of Vito Corleone in ...        90.0   \n",
       "4  A jury holdout attempts to prevent a miscarria...        96.0   \n",
       "\n",
       "               Director           Star1           Star2          Star3  \\\n",
       "0        Frank Darabont     Tim Robbins  Morgan Freeman     Bob Gunton   \n",
       "1  Francis Ford Coppola   Marlon Brando       Al Pacino     James Caan   \n",
       "2     Christopher Nolan  Christian Bale    Heath Ledger  Aaron Eckhart   \n",
       "3  Francis Ford Coppola       Al Pacino  Robert De Niro  Robert Duvall   \n",
       "4          Sidney Lumet     Henry Fonda     Lee J. Cobb  Martin Balsam   \n",
       "\n",
       "            Star4  No_of_Votes        Gross  \n",
       "0  William Sadler      2343110   28,341,469  \n",
       "1    Diane Keaton      1620367  134,966,411  \n",
       "2   Michael Caine      2303232  534,858,444  \n",
       "3    Diane Keaton      1129952   57,300,000  \n",
       "4    John Fiedler       689845    4,360,000  "
      ]
     },
     "execution_count": 3,
     "metadata": {},
     "output_type": "execute_result"
    }
   ],
   "source": [
    "movies.head()"
   ]
  },
  {
   "cell_type": "code",
   "execution_count": 4,
   "metadata": {},
   "outputs": [
    {
     "data": {
      "text/plain": [
       "MovieID            0\n",
       "Poster_Link        0\n",
       "Series_Title       0\n",
       "Released_Year      0\n",
       "Certificate      101\n",
       "Runtime            0\n",
       "Genre              0\n",
       "IMDB_Rating        0\n",
       "Overview           0\n",
       "Meta_score       157\n",
       "Director           0\n",
       "Star1              0\n",
       "Star2              0\n",
       "Star3              0\n",
       "Star4              0\n",
       "No_of_Votes        0\n",
       "Gross            169\n",
       "dtype: int64"
      ]
     },
     "execution_count": 4,
     "metadata": {},
     "output_type": "execute_result"
    }
   ],
   "source": [
    "#Pre-process the Dataset\n",
    "# Check for missing values\n",
    "movies.isna().sum()"
   ]
  },
  {
   "cell_type": "code",
   "execution_count": 5,
   "metadata": {},
   "outputs": [],
   "source": [
    "#Deleting unwated Columns\n",
    "del movies['Certificate']\n",
    "del movies['Meta_score']\n",
    "del movies['Gross']"
   ]
  },
  {
   "cell_type": "markdown",
   "metadata": {},
   "source": [
    "# CONTENT BASED ALGORITHM"
   ]
  },
  {
   "cell_type": "code",
   "execution_count": 6,
   "metadata": {},
   "outputs": [],
   "source": [
    "# Encode the movie features to represent them as feature vectors\n",
    "tfidf_vectorizer = TfidfVectorizer(stop_words='english')\n",
    "tfidf_matrix = tfidf_vectorizer.fit_transform(movies['Genre'])"
   ]
  },
  {
   "cell_type": "code",
   "execution_count": 7,
   "metadata": {},
   "outputs": [],
   "source": [
    "# Implement the content-based filtering algorithm to compute similarities and generate recommendations\n",
    "cosine_similarities = cosine_similarity(tfidf_matrix, tfidf_matrix)"
   ]
  },
  {
   "cell_type": "code",
   "execution_count": 8,
   "metadata": {},
   "outputs": [],
   "source": [
    "# Helper function to get movie recommendations based on a given movie title\n",
    "def content_based_model(title, cosine_similarities, indices, top_n=10):\n",
    "    # Find the index of the movie in the dataset\n",
    "    index = indices[title]\n",
    "    \n",
    "    # Get the pairwise similarities for the movie with other movies\n",
    "    similarity_scores = list(enumerate(cosine_similarities[index]))\n",
    "    \n",
    "    # Sort the movies based on similarity scores\n",
    "    similarity_scores = sorted(similarity_scores, key=lambda x: x[1], reverse=True)\n",
    "    \n",
    "    # Get the top N similar movies (excluding the movie itself)\n",
    "    top_movies = similarity_scores[1:top_n+1]\n",
    "    \n",
    "    # Get the titles of the top N similar movies\n",
    "    movie_indices = [i[0] for i in top_movies]\n",
    "    recommended_movies = movies['Series_Title'].iloc[movie_indices]\n",
    "    \n",
    "    return recommended_movies"
   ]
  },
  {
   "cell_type": "code",
   "execution_count": 9,
   "metadata": {},
   "outputs": [
    {
     "name": "stdout",
     "output_type": "stream",
     "text": [
      "Recommendations for 'The Godfather':\n",
      "3           The Godfather: Part II\n",
      "4                     12 Angry Men\n",
      "6                     Pulp Fiction\n",
      "22                  Cidade de Deus\n",
      "71     Once Upon a Time in America\n",
      "108                       Scarface\n",
      "111                    Taxi Driver\n",
      "165                         Casino\n",
      "180          To Kill a Mockingbird\n",
      "257                       La haine\n",
      "Name: Series_Title, dtype: object\n"
     ]
    }
   ],
   "source": [
    "# Create a dictionary to map movie titles to their indices in the dataset\n",
    "indices = pd.Series(movies.index, index=movies['Series_Title']).drop_duplicates()\n",
    "\n",
    "# Example usage: Get content-based recommendations for a movie\n",
    "movie_title = 'The Godfather'\n",
    "recommendations = content_based_model(movie_title, cosine_similarities, indices)\n",
    "print(f\"Recommendations for '{movie_title}':\\n{recommendations}\")\n",
    "\n"
   ]
  },
  {
   "cell_type": "code",
   "execution_count": 10,
   "metadata": {},
   "outputs": [
    {
     "name": "stdout",
     "output_type": "stream",
     "text": [
      "Precision: 1.0\n",
      "Recall: 1.0\n",
      "F1 Score: 1.0\n"
     ]
    }
   ],
   "source": [
    "# Example usage: Get content-based recommendations for a movie\n",
    "movie_title = 'The Godfather'\n",
    "ground_truth = ['The Godfather: Part II','12 Angry Men','Pulp Fiction','Cidade de Deus','Once Upon a Time in America','Scarface','Taxi Driver','Casino','To Kill a Mockingbird','La haine']\n",
    "recommendations = content_based_model(movie_title, cosine_similarities, indices)\n",
    "\n",
    "# Convert recommendations and ground truth to lists\n",
    "recommendations_list = recommendations.tolist()\n",
    "ground_truth_list = ground_truth\n",
    "\n",
    "# Compute evaluation metrics\n",
    "precision = precision_score(ground_truth_list, recommendations_list, average='micro')\n",
    "recall = recall_score(ground_truth_list, recommendations_list, average='micro')\n",
    "f1 = f1_score(ground_truth_list, recommendations_list, average='micro')\n",
    "\n",
    "# Print the evaluation metrics\n",
    "print(\"Precision:\", precision)\n",
    "print(\"Recall:\", recall)\n",
    "print(\"F1 Score:\", f1)\n"
   ]
  },
  {
   "cell_type": "markdown",
   "metadata": {},
   "source": [
    "# COLLABORATIVE FILTERING"
   ]
  },
  {
   "cell_type": "code",
   "execution_count": 11,
   "metadata": {
    "scrolled": true
   },
   "outputs": [
    {
     "name": "stdout",
     "output_type": "stream",
     "text": [
      "Recommendations for user 1:\n",
      "1                                         The Godfather\n",
      "2                                       The Dark Knight\n",
      "3                                The Godfather: Part II\n",
      "4                                          12 Angry Men\n",
      "5         The Lord of the Rings: The Return of the King\n",
      "6                                          Pulp Fiction\n",
      "7                                      Schindler's List\n",
      "8                                             Inception\n",
      "9                                            Fight Club\n",
      "10    The Lord of the Rings: The Fellowship of the Ring\n",
      "Name: Series_Title, dtype: object\n"
     ]
    }
   ],
   "source": [
    "from surprise import SVD\n",
    "\n",
    "# Example usage: Get collaborative filtering recommendations for a user\n",
    "user_id = 1\n",
    "n_recommendations = 10\n",
    "\n",
    "# Create a user-item matrix to capture user-item interactions\n",
    "reader = Reader(rating_scale=(1, 5))\n",
    "data = Dataset.load_from_df(movies[['Series_Title', 'MovieID', 'IMDB_Rating']], reader)\n",
    "# Split the data into train and test sets\n",
    "trainset = data.build_full_trainset()\n",
    "testset = trainset.build_anti_testset()\n",
    "\n",
    "\n",
    "\n",
    "# Implement the collaborative filtering algorithm (SVD) to calculate similarities and generate recommendations\n",
    "algo = SVD()\n",
    "algo.fit(trainset)\n",
    "\n",
    "    # Example usage: Get collaborative filtering recommendations for a user\n",
    "user_id = 1\n",
    "n_recommendations = 10\n",
    "\n",
    "    # Get the items (movies) the user hasn't rated\n",
    "user_unrated_movies = movies[~movies['MovieID'].isin(movies[movies['MovieID'] == user_id]['MovieID'])]['MovieID']\n",
    "\n",
    "    # Predict ratings for the user on the unrated movies\n",
    "predictions = [algo.predict(user_id, movie_id) for movie_id in user_unrated_movies]\n",
    "\n",
    "    # Sort the predictions by estimated rating in descending order\n",
    "predictions.sort(key=lambda x: x.est, reverse=True)\n",
    "\n",
    "    #Get the top N recommendations\n",
    "collaborative_filtering_model = [prediction.iid for prediction in predictions[:n_recommendations]]\n",
    "\n",
    "\n",
    "# Get the movie titles of the recommended movies\n",
    "recommended_movie_titles = movies[movies['MovieID'].isin(collaborative_filtering_model)]['Series_Title']\n",
    "print(f\"Recommendations for user {user_id}:\\n{recommended_movie_titles}\")  "
   ]
  },
  {
   "cell_type": "code",
   "execution_count": 12,
   "metadata": {},
   "outputs": [],
   "source": [
    "# Evaluate the model\n",
    "predictions = algo.test(testset)\n"
   ]
  },
  {
   "cell_type": "code",
   "execution_count": 13,
   "metadata": {},
   "outputs": [
    {
     "name": "stdout",
     "output_type": "stream",
     "text": [
      "Evaluating RMSE, MAE of algorithm SVD on 5 split(s).\n",
      "\n",
      "                  Fold 1  Fold 2  Fold 3  Fold 4  Fold 5  Mean    Std     \n",
      "RMSE (testset)    2.9632  3.0016  2.9592  2.9413  2.9449  2.9620  0.0214  \n",
      "MAE (testset)     2.9515  2.9865  2.9455  2.9285  2.9345  2.9493  0.0203  \n",
      "Fit time          0.07    0.08    0.10    0.09    0.07    0.08    0.01    \n",
      "Test time         0.00    0.00    0.00    0.00    0.00    0.00    0.00    \n"
     ]
    }
   ],
   "source": [
    "df_scores1 = cross_validate(algo, data, measures=['RMSE', 'MAE'], cv=5, verbose=True)"
   ]
  },
  {
   "cell_type": "code",
   "execution_count": 14,
   "metadata": {},
   "outputs": [
    {
     "name": "stdout",
     "output_type": "stream",
     "text": [
      "RMSE: 2.9493\n",
      "MAE:  2.9493\n"
     ]
    }
   ],
   "source": [
    "from surprise import accuracy# Compute evaluation metrics\n",
    "from sklearn.metrics import precision_recall_fscore_support\n",
    "# Compute evaluation metrics\n",
    "rmse = accuracy.rmse(predictions)\n",
    "mae = accuracy.mae(predictions)"
   ]
  },
  {
   "cell_type": "markdown",
   "metadata": {},
   "source": [
    "# HYBRID ALGORITHM"
   ]
  },
  {
   "cell_type": "code",
   "execution_count": 15,
   "metadata": {},
   "outputs": [
    {
     "name": "stdout",
     "output_type": "stream",
     "text": [
      "Computing the msd similarity matrix...\n",
      "Done computing similarity matrix.\n",
      "Computing the msd similarity matrix...\n",
      "Done computing similarity matrix.\n",
      "Computing the msd similarity matrix...\n",
      "Done computing similarity matrix.\n",
      "Computing the msd similarity matrix...\n",
      "Done computing similarity matrix.\n",
      "Computing the msd similarity matrix...\n",
      "Done computing similarity matrix.\n",
      "Evaluating RMSE, MAE of algorithm KNNBasic on 5 split(s).\n",
      "\n",
      "                  Fold 1  Fold 2  Fold 3  Fold 4  Fold 5  Mean    Std     \n",
      "RMSE (testset)    0.3060  0.2680  0.2551  0.2510  0.2930  0.2746  0.0215  \n",
      "MAE (testset)     0.2411  0.2187  0.2024  0.2066  0.2307  0.2199  0.0145  \n",
      "Fit time          0.04    0.03    0.02    0.02    0.02    0.03    0.01    \n",
      "Test time         0.00    0.00    0.00    0.00    0.00    0.00    0.00    \n",
      "Hybrid Recommendations for user 1:\n",
      "3           The Godfather: Part II\n",
      "4                     12 Angry Men\n",
      "6                     Pulp Fiction\n",
      "22                  Cidade de Deus\n",
      "71     Once Upon a Time in America\n",
      "108                       Scarface\n",
      "111                    Taxi Driver\n",
      "165                         Casino\n",
      "180          To Kill a Mockingbird\n",
      "257                       La haine\n",
      "Name: Series_Title, dtype: object\n"
     ]
    }
   ],
   "source": [
    "import pandas as pd\n",
    "from surprise import Reader, Dataset, KNNBasic\n",
    "from sklearn.model_selection import train_test_split\n",
    "from sklearn.feature_extraction.text import TfidfVectorizer\n",
    "from sklearn.metrics.pairwise import linear_kernel\n",
    "\n",
    "\n",
    "\n",
    "# Prepare the data for Surprise\n",
    "reader = Reader(rating_scale=(0, 10))\n",
    "data = Dataset.load_from_df(movies[['MovieID', 'Series_Title', 'IMDB_Rating']], reader)\n",
    "\n",
    "# Define and train the collaborative filtering algorithm\n",
    "algo_collab = KNNBasic()\n",
    "\n",
    "# Train the algorithm using cross-validation\n",
    "cross_validate(algo_collab, data, measures=['RMSE','MAE'], cv=5, verbose=True)\n",
    "\n",
    "# Prepare the data for content-based filtering\n",
    "tfidf = TfidfVectorizer(stop_words='english')\n",
    "movie_overview_matrix = tfidf.fit_transform(movies['Genre'].fillna(''))\n",
    "\n",
    "# Compute similarity scores between movies based on the movie overviews\n",
    "cosine_similarities = linear_kernel(movie_overview_matrix, movie_overview_matrix)\n",
    "\n",
    "# Function to get movie recommendations based on content similarity\n",
    "def content_based_recommendations(movie_title, cosine_similarities, indices):\n",
    "    movie_index = indices[movie_title]\n",
    "    similarity_scores = list(enumerate(cosine_similarities[movie_index]))\n",
    "    similarity_scores = sorted(similarity_scores, key=lambda x: x[1], reverse=True)\n",
    "    top_similar_movies = similarity_scores[1:11]\n",
    "    top_movie_indices = [index for index, _ in top_similar_movies]\n",
    "    return merged_data['Series_Title'].iloc[top_movie_indices]\n",
    "def get_collaborative_filtering_recommendations(user_id, n_recommendations=10):\n",
    "    # Create a user-item matrix to capture user-item interactions\n",
    "    reader = Reader(rating_scale=(1, 5))\n",
    "    data = Dataset.load_from_df(movies[['Series_Title', 'MovieID', 'IMDB_Rating']], reader)\n",
    "    # Split the data into train and test sets\n",
    "    trainset = data.build_full_trainset()\n",
    "    testset = trainset.build_anti_testset()\n",
    "    # Example usage: Get collaborative filtering recommendations for a user\n",
    "    user_id = 1\n",
    "    n_recommendations = 10\n",
    "    # Get the items (movies) the user hasn't rated\n",
    "    user_unrated_movies = movies[~movies['MovieID'].isin(movies[movies['MovieID'] == user_id]['MovieID'])]['MovieID']\n",
    "    # Predict ratings for the user on the unrated movies\n",
    "    predictions = [algo.predict(user_id, movie_id) for movie_id in user_unrated_movies]\n",
    "    # Sort the predictions by estimated rating in descending order\n",
    "    predictions.sort(key=lambda x: x.est, reverse=True)\n",
    "    # Get the top N recommendations\n",
    "    recommended_movies = [prediction.iid for prediction in predictions[:n_recommendations]]\n",
    "    # Get the movie titles of the recommended movies\n",
    "    recommended_movie_titles = movies[movies['MovieID'].isin(recommended_movies)]['Series_Title']\n",
    "    return recommended_movie_titles\n",
    "def hybrid_recommender(user_id, n_recommendations):\n",
    "    # Get content-based recommendations for the user\n",
    "    content_based_recommendations = content_based_model(user_id, cosine_similarities, indices, top_n=n_recommendations)\n",
    "\n",
    "    # Get collaborative filtering recommendations for the user\n",
    "    collaborative_filtering_recommendations = get_collaborative_filtering_recommendations(user_id, n_recommendations)\n",
    "\n",
    "    # Combine the recommendations\n",
    "    hybrid_recommendations = content_based_recommendations.append(collaborative_filtering_recommendations)\n",
    "    hybrid_recommendations = hybrid_recommendations.drop_duplicates().head(n_recommendations)\n",
    "\n",
    "    return hybrid_recommendations\n",
    "#Example usage: Get hybrid recommendations for a user\n",
    "user_id = 1 \n",
    "n_recommendations = 10\n",
    "recommended_movies = hybrid_recommender(user_id, n_recommendations) \n",
    "print(f\"Hybrid Recommendations for user {user_id}:\\n{recommended_movies}\")\n"
   ]
  },
  {
   "cell_type": "code",
   "execution_count": 16,
   "metadata": {},
   "outputs": [
    {
     "data": {
      "image/png": "[encoded data removed]",
      "text/plain": [
       "<Figure size 576x432 with 1 Axes>"
      ]
     },
     "metadata": {
      "needs_background": "light"
     },
     "output_type": "display_data"
    },
    {
     "data": {
      "image/png": "[encoded data removed]",
      "text/plain": [
       "<Figure size 576x432 with 1 Axes>"
      ]
     },
     "metadata": {
      "needs_background": "light"
     },
     "output_type": "display_data"
    },
    {
     "data": {
      "image/png": "[encoded data removed]",
      "text/plain": [
       "<Figure size 576x432 with 1 Axes>"
      ]
     },
     "metadata": {
      "needs_background": "light"
     },
     "output_type": "display_data"
    },
    {
     "data": {
      "image/png": "[encoded data removed]",
      "text/plain": [
       "<Figure size 576x432 with 1 Axes>"
      ]
     },
     "metadata": {
      "needs_background": "light"
     },
     "output_type": "display_data"
    }
   ],
   "source": [
    "import matplotlib.pyplot as plt\n",
    "import numpy as np\n",
    "\n",
    "# Cross-validation 1 - RMSE and Fit time\n",
    "cv1_rmse = [0.2680, 0.2509, 0.2923, 0.3179, 0.2412]\n",
    "cv1_fit_time = [0.04, 0.03, 0.02, 0.02, 0.02]\n",
    "\n",
    "# Cross-validation 2 - RMSE, MAE, and Fit time\n",
    "cv2_rmse = [0.2972, 0.2880, 0.2657, 0.2523, 0.2726]\n",
    "cv2_mae = [0.2284, 0.2307, 0.2159, 0.2063, 0.2184]\n",
    "cv2_fit_time = [0.10, 0.07, 0.07, 0.07, 0.07]\n",
    "\n",
    "# Plotting RMSE scores\n",
    "plt.figure(figsize=(8, 6))\n",
    "x = np.arange(1, 6)\n",
    "width = 0.35\n",
    "\n",
    "plt.bar(x, cv1_rmse, width, label='COLLABORATIVE FILTERING')\n",
    "plt.bar(x + width, cv2_rmse, width, label='HYBRID FILTERING')\n",
    "\n",
    "plt.xlabel('Fold')\n",
    "plt.ylabel('RMSE')\n",
    "plt.title('Comparison of RMSE Scores')\n",
    "plt.xticks(x + width/2, x)\n",
    "plt.legend()\n",
    "plt.show()\n",
    "\n",
    "# Plotting MAE scores\n",
    "plt.figure(figsize=(8, 6))\n",
    "\n",
    "plt.bar(x, cv1_rmse, width, label='COLLABORATIVE FILTERING')\n",
    "\n",
    "plt.xlabel('Fold')\n",
    "plt.ylabel('MAE')\n",
    "plt.title('Comparison of MAE Scores')\n",
    "plt.xticks(x, x)\n",
    "plt.legend()\n",
    "plt.show()\n",
    "\n",
    "# Plotting MAE scores\n",
    "plt.figure(figsize=(8, 6))\n",
    "\n",
    "plt.bar(x, cv2_mae, width, label='HYBRID FILTERING')\n",
    "\n",
    "plt.xlabel('Fold')\n",
    "plt.ylabel('MAE')\n",
    "plt.title('Comparison of MAE Scores')\n",
    "plt.xticks(x, x)\n",
    "plt.legend()\n",
    "plt.show()\n",
    "\n",
    "# Plotting Fit time\n",
    "plt.figure(figsize=(8, 6))\n",
    "\n",
    "plt.plot(x, cv1_fit_time, marker='o', label='COLLABORATIVE FILTERING')\n",
    "plt.plot(x, cv2_fit_time, marker='o', label='HYBRID FILTERING')\n",
    "\n",
    "plt.xlabel('Fold')\n",
    "plt.ylabel('Fit time')\n",
    "plt.title('Comparison of Fit Time')\n",
    "plt.xticks(x, x)\n",
    "plt.legend()\n",
    "plt.show()\n"
   ]
  },
  {
   "cell_type": "markdown",
   "metadata": {},
   "source": [
    "# ATTENTION MECHANISM"
   ]
  },
  {
   "cell_type": "code",
   "execution_count": 17,
   "metadata": {},
   "outputs": [
    {
     "name": "stderr",
     "output_type": "stream",
     "text": [
      "2023-05-19 09:41:52.901015: I tensorflow/core/platform/cpu_feature_guard.cc:193] This TensorFlow binary is optimized with oneAPI Deep Neural Network Library (oneDNN) to use the following CPU instructions in performance-critical operations:  AVX2 FMA\n",
      "To enable them in other operations, rebuild TensorFlow with the appropriate compiler flags.\n"
     ]
    }
   ],
   "source": [
    "from keras.layers import Input, Embedding, LSTM, Dense, Flatten\n",
    "from keras.layers import concatenate, dot\n",
    "from keras.layers import Multiply, Permute, Reshape, Lambda\n",
    "from keras.models import Model\n",
    "from keras.callbacks import EarlyStopping\n",
    "from keras.preprocessing.text import Tokenizer\n",
    "from tensorflow.keras.preprocessing.sequence import pad_sequences"
   ]
  },
  {
   "cell_type": "code",
   "execution_count": 18,
   "metadata": {},
   "outputs": [],
   "source": [
    "# Define the input shape\n",
    "maxlen = 165\n",
    "\n",
    "# Tokenize the text data\n",
    "tokenizer = Tokenizer(num_words=5000)\n",
    "tokenizer.fit_on_texts(movies['Genre'])\n",
    "sequences = tokenizer.texts_to_sequences(movies['Genre'])\n",
    "X = pad_sequences(sequences, maxlen=maxlen)\n",
    "\n"
   ]
  },
  {
   "cell_type": "code",
   "execution_count": 19,
   "metadata": {},
   "outputs": [],
   "source": [
    "# Scale the target variable\n",
    "Y = movies['IMDB_Rating'].values\n",
    "Y = (Y - Y.mean()) / Y.std()\n",
    "\n",
    "# Split the data into training and testing sets\n",
    "X_train, X_test, Y_train, Y_test = train_test_split(X, Y, test_size=0.2, random_state=42)"
   ]
  },
  {
   "cell_type": "code",
   "execution_count": 20,
   "metadata": {},
   "outputs": [
    {
     "name": "stderr",
     "output_type": "stream",
     "text": [
      "2023-05-19 09:42:13.191033: I tensorflow/core/platform/cpu_feature_guard.cc:193] This TensorFlow binary is optimized with oneAPI Deep Neural Network Library (oneDNN) to use the following CPU instructions in performance-critical operations:  AVX2 FMA\n",
      "To enable them in other operations, rebuild TensorFlow with the appropriate compiler flags.\n"
     ]
    }
   ],
   "source": [
    "# Define the model architecture\n",
    "input_layer = Input(shape=(maxlen,))\n",
    "embedding_layer = Embedding(input_dim=5000, output_dim=128, input_length=maxlen)(input_layer)\n",
    "lstm_layer = LSTM(128, dropout=0.2, recurrent_dropout=0.2, return_sequences=True)(embedding_layer)"
   ]
  },
  {
   "cell_type": "code",
   "execution_count": 21,
   "metadata": {},
   "outputs": [],
   "source": [
    "# Attention Mechanism\n",
    "attention_probs = Dense(128, activation='softmax', name='attention_probs')(lstm_layer)\n",
    "attention_mul = dot([attention_probs, lstm_layer], axes=[1, 1])"
   ]
  },
  {
   "cell_type": "code",
   "execution_count": 22,
   "metadata": {},
   "outputs": [],
   "source": [
    "flatten_layer = Flatten()(attention_mul)\n",
    "output_layer = Dense(1, activation='linear')(flatten_layer)"
   ]
  },
  {
   "cell_type": "code",
   "execution_count": 23,
   "metadata": {},
   "outputs": [],
   "source": [
    "attention_model = Model(inputs=input_layer, outputs=output_layer)"
   ]
  },
  {
   "cell_type": "code",
   "execution_count": 24,
   "metadata": {},
   "outputs": [],
   "source": [
    "import keras.backend as K\n",
    "\n",
    "def rmse(y_true, y_pred):\n",
    "    return K.sqrt(K.mean(K.square(y_pred - y_true), axis=-1))"
   ]
  },
  {
   "cell_type": "code",
   "execution_count": 25,
   "metadata": {},
   "outputs": [],
   "source": [
    "attention_model.compile(optimizer='adam', loss='mean_squared_error', metrics=['mae', 'mse', rmse])"
   ]
  },
  {
   "cell_type": "code",
   "execution_count": 26,
   "metadata": {},
   "outputs": [
    {
     "name": "stdout",
     "output_type": "stream",
     "text": [
      "Epoch 1/50\n",
      "WARNING:tensorflow:AutoGraph could not transform <function Model.make_train_function.<locals>.train_function at 0x7fe9db5b2488> and will run it as-is.\n",
      "Please report this to the TensorFlow team. When filing the bug, set the verbosity to 10 (on Linux, `export AUTOGRAPH_VERBOSITY=10`) and attach the full output.\n",
      "Cause: 'arguments' object has no attribute 'posonlyargs'\n",
      "To silence this warning, decorate the function with @tf.autograph.experimental.do_not_convert\n",
      "WARNING: AutoGraph could not transform <function Model.make_train_function.<locals>.train_function at 0x7fe9db5b2488> and will run it as-is.\n",
      "Please report this to the TensorFlow team. When filing the bug, set the verbosity to 10 (on Linux, `export AUTOGRAPH_VERBOSITY=10`) and attach the full output.\n",
      "Cause: 'arguments' object has no attribute 'posonlyargs'\n",
      "To silence this warning, decorate the function with @tf.autograph.experimental.do_not_convert\n",
      "WARNING:tensorflow:AutoGraph could not transform <function rmse at 0x7fe9db546f28> and will run it as-is.\n",
      "Please report this to the TensorFlow team. When filing the bug, set the verbosity to 10 (on Linux, `export AUTOGRAPH_VERBOSITY=10`) and attach the full output.\n",
      "Cause: 'arguments' object has no attribute 'posonlyargs'\n",
      "To silence this warning, decorate the function with @tf.autograph.experimental.do_not_convert\n",
      "WARNING: AutoGraph could not transform <function rmse at 0x7fe9db546f28> and will run it as-is.\n",
      "Please report this to the TensorFlow team. When filing the bug, set the verbosity to 10 (on Linux, `export AUTOGRAPH_VERBOSITY=10`) and attach the full output.\n",
      "Cause: 'arguments' object has no attribute 'posonlyargs'\n",
      "To silence this warning, decorate the function with @tf.autograph.experimental.do_not_convert\n",
      "25/25 [==============================] - ETA: 0s - loss: 1.0516 - mae: 0.8052 - mse: 1.0516 - rmse: 0.8052WARNING:tensorflow:AutoGraph could not transform <function Model.make_test_function.<locals>.test_function at 0x7fe9dd8dca60> and will run it as-is.\n",
      "Please report this to the TensorFlow team. When filing the bug, set the verbosity to 10 (on Linux, `export AUTOGRAPH_VERBOSITY=10`) and attach the full output.\n",
      "Cause: 'arguments' object has no attribute 'posonlyargs'\n",
      "To silence this warning, decorate the function with @tf.autograph.experimental.do_not_convert\n",
      "WARNING: AutoGraph could not transform <function Model.make_test_function.<locals>.test_function at 0x7fe9dd8dca60> and will run it as-is.\n",
      "Please report this to the TensorFlow team. When filing the bug, set the verbosity to 10 (on Linux, `export AUTOGRAPH_VERBOSITY=10`) and attach the full output.\n",
      "Cause: 'arguments' object has no attribute 'posonlyargs'\n",
      "To silence this warning, decorate the function with @tf.autograph.experimental.do_not_convert\n",
      "25/25 [==============================] - 16s 482ms/step - loss: 1.0516 - mae: 0.8052 - mse: 1.0516 - rmse: 0.8052 - val_loss: 0.8588 - val_mae: 0.7739 - val_mse: 0.8588 - val_rmse: 0.7739\n",
      "Epoch 2/50\n",
      "25/25 [==============================] - 13s 518ms/step - loss: 1.0401 - mae: 0.8042 - mse: 1.0401 - rmse: 0.8042 - val_loss: 0.8489 - val_mae: 0.7583 - val_mse: 0.8489 - val_rmse: 0.7583\n",
      "Epoch 3/50\n",
      "25/25 [==============================] - 17s 709ms/step - loss: 1.0430 - mae: 0.8064 - mse: 1.0430 - rmse: 0.8064 - val_loss: 0.8486 - val_mae: 0.7686 - val_mse: 0.8486 - val_rmse: 0.7686\n",
      "Epoch 4/50\n",
      "25/25 [==============================] - 19s 772ms/step - loss: 1.0413 - mae: 0.8080 - mse: 1.0413 - rmse: 0.8080 - val_loss: 0.8508 - val_mae: 0.7701 - val_mse: 0.8508 - val_rmse: 0.7701\n",
      "Epoch 5/50\n",
      "25/25 [==============================] - 13s 532ms/step - loss: 1.0396 - mae: 0.8083 - mse: 1.0396 - rmse: 0.8083 - val_loss: 0.8500 - val_mae: 0.7696 - val_mse: 0.8500 - val_rmse: 0.7696\n",
      "Epoch 6/50\n",
      "25/25 [==============================] - 13s 524ms/step - loss: 1.0396 - mae: 0.8066 - mse: 1.0396 - rmse: 0.8066 - val_loss: 0.8536 - val_mae: 0.7717 - val_mse: 0.8536 - val_rmse: 0.7717\n",
      "Epoch 6: early stopping\n"
     ]
    }
   ],
   "source": [
    "# Train the model\n",
    "attention_es = EarlyStopping(monitor='val_loss', mode='min', verbose=1, patience=3)\n",
    "history = attention_model.fit(X_train, Y_train, validation_data=(X_test, Y_test), epochs=50, batch_size=32, callbacks=[attention_es])"
   ]
  },
  {
   "cell_type": "code",
   "execution_count": 27,
   "metadata": {},
   "outputs": [
    {
     "name": "stdout",
     "output_type": "stream",
     "text": [
      "MAE: 0.7716881632804871\n",
      "RMSE: 0.9239270921404927\n"
     ]
    }
   ],
   "source": [
    "from sklearn.model_selection import cross_val_score\n",
    "# Evaluate the model on the test set\n",
    "scores = attention_model.evaluate(X_test, Y_test, verbose=0)\n",
    "print(\"MAE:\", scores[1])\n",
    "print(\"RMSE:\", np.sqrt(scores[2]))"
   ]
  },
  {
   "cell_type": "code",
   "execution_count": 28,
   "metadata": {},
   "outputs": [
    {
     "name": "stdout",
     "output_type": "stream",
     "text": [
      "WARNING:tensorflow:AutoGraph could not transform <function Model.make_test_function.<locals>.test_function at 0x7fe9f07d7400> and will run it as-is.\n",
      "Please report this to the TensorFlow team. When filing the bug, set the verbosity to 10 (on Linux, `export AUTOGRAPH_VERBOSITY=10`) and attach the full output.\n",
      "Cause: 'arguments' object has no attribute 'posonlyargs'\n",
      "To silence this warning, decorate the function with @tf.autograph.experimental.do_not_convert\n",
      "WARNING: AutoGraph could not transform <function Model.make_test_function.<locals>.test_function at 0x7fe9f07d7400> and will run it as-is.\n",
      "Please report this to the TensorFlow team. When filing the bug, set the verbosity to 10 (on Linux, `export AUTOGRAPH_VERBOSITY=10`) and attach the full output.\n",
      "Cause: 'arguments' object has no attribute 'posonlyargs'\n",
      "To silence this warning, decorate the function with @tf.autograph.experimental.do_not_convert\n",
      "7/7 [==============================] - 1s 70ms/step - loss: 0.8628 - mae: 0.7753 - mse: 0.8628\n",
      "WARNING:tensorflow:AutoGraph could not transform <function Model.make_test_function.<locals>.test_function at 0x7fe9befd79d8> and will run it as-is.\n",
      "Please report this to the TensorFlow team. When filing the bug, set the verbosity to 10 (on Linux, `export AUTOGRAPH_VERBOSITY=10`) and attach the full output.\n",
      "Cause: 'arguments' object has no attribute 'posonlyargs'\n",
      "To silence this warning, decorate the function with @tf.autograph.experimental.do_not_convert\n",
      "WARNING: AutoGraph could not transform <function Model.make_test_function.<locals>.test_function at 0x7fe9befd79d8> and will run it as-is.\n",
      "Please report this to the TensorFlow team. When filing the bug, set the verbosity to 10 (on Linux, `export AUTOGRAPH_VERBOSITY=10`) and attach the full output.\n",
      "Cause: 'arguments' object has no attribute 'posonlyargs'\n",
      "To silence this warning, decorate the function with @tf.autograph.experimental.do_not_convert\n",
      "7/7 [==============================] - 2s 80ms/step - loss: 1.2461 - mae: 0.8379 - mse: 1.2461\n",
      "WARNING:tensorflow:AutoGraph could not transform <function Model.make_test_function.<locals>.test_function at 0x7fe9bee1b510> and will run it as-is.\n",
      "Please report this to the TensorFlow team. When filing the bug, set the verbosity to 10 (on Linux, `export AUTOGRAPH_VERBOSITY=10`) and attach the full output.\n",
      "Cause: 'arguments' object has no attribute 'posonlyargs'\n",
      "To silence this warning, decorate the function with @tf.autograph.experimental.do_not_convert\n",
      "WARNING: AutoGraph could not transform <function Model.make_test_function.<locals>.test_function at 0x7fe9bee1b510> and will run it as-is.\n",
      "Please report this to the TensorFlow team. When filing the bug, set the verbosity to 10 (on Linux, `export AUTOGRAPH_VERBOSITY=10`) and attach the full output.\n",
      "Cause: 'arguments' object has no attribute 'posonlyargs'\n",
      "To silence this warning, decorate the function with @tf.autograph.experimental.do_not_convert\n",
      "7/7 [==============================] - 2s 94ms/step - loss: 0.9531 - mae: 0.7772 - mse: 0.9531\n",
      "WARNING:tensorflow:AutoGraph could not transform <function Model.make_test_function.<locals>.test_function at 0x7fe9c0396f28> and will run it as-is.\n",
      "Please report this to the TensorFlow team. When filing the bug, set the verbosity to 10 (on Linux, `export AUTOGRAPH_VERBOSITY=10`) and attach the full output.\n",
      "Cause: 'arguments' object has no attribute 'posonlyargs'\n",
      "To silence this warning, decorate the function with @tf.autograph.experimental.do_not_convert\n",
      "WARNING: AutoGraph could not transform <function Model.make_test_function.<locals>.test_function at 0x7fe9c0396f28> and will run it as-is.\n",
      "Please report this to the TensorFlow team. When filing the bug, set the verbosity to 10 (on Linux, `export AUTOGRAPH_VERBOSITY=10`) and attach the full output.\n",
      "Cause: 'arguments' object has no attribute 'posonlyargs'\n",
      "To silence this warning, decorate the function with @tf.autograph.experimental.do_not_convert\n",
      "7/7 [==============================] - 2s 110ms/step - loss: 0.9000 - mae: 0.8090 - mse: 0.9000\n",
      "WARNING:tensorflow:AutoGraph could not transform <function Model.make_test_function.<locals>.test_function at 0x7fe9bf6246a8> and will run it as-is.\n",
      "Please report this to the TensorFlow team. When filing the bug, set the verbosity to 10 (on Linux, `export AUTOGRAPH_VERBOSITY=10`) and attach the full output.\n",
      "Cause: 'arguments' object has no attribute 'posonlyargs'\n",
      "To silence this warning, decorate the function with @tf.autograph.experimental.do_not_convert\n",
      "WARNING: AutoGraph could not transform <function Model.make_test_function.<locals>.test_function at 0x7fe9bf6246a8> and will run it as-is.\n",
      "Please report this to the TensorFlow team. When filing the bug, set the verbosity to 10 (on Linux, `export AUTOGRAPH_VERBOSITY=10`) and attach the full output.\n",
      "Cause: 'arguments' object has no attribute 'posonlyargs'\n",
      "To silence this warning, decorate the function with @tf.autograph.experimental.do_not_convert\n",
      "7/7 [==============================] - 2s 82ms/step - loss: 1.0378 - mae: 0.7989 - mse: 1.0378\n",
      "Average MAE: 0.7996677279472351\n"
     ]
    }
   ],
   "source": [
    "from sklearn.model_selection import KFold\n",
    "# Perform cross-validation\n",
    "k_fold = KFold(n_splits=5, shuffle=True, random_state=42)\n",
    "\n",
    "# Initialize a list to store the evaluation scores for each fold\n",
    "scores = []\n",
    "\n",
    "for train_indices, val_indices in k_fold.split(X):\n",
    "    # Split the data into training and validation sets\n",
    "    X_train, X_val = X[train_indices], X[val_indices]\n",
    "    Y_train, Y_val = Y[train_indices], Y[val_indices]\n",
    "\n",
    "    # Define the model architecture\n",
    "    input_layer = Input(shape=(maxlen,))\n",
    "    embedding_layer = Embedding(input_dim=5000, output_dim=128, input_length=maxlen)(input_layer)\n",
    "    lstm_layer = LSTM(128, dropout=0.2, recurrent_dropout=0.2, return_sequences=True)(embedding_layer)\n",
    "\n",
    "    # Attention Mechanism\n",
    "    attention_probs = Dense(128, activation='softmax', name='attention_probs')(lstm_layer)\n",
    "    attention_mul = dot([attention_probs, lstm_layer], axes=[1, 1])\n",
    "\n",
    "    flatten_layer = Flatten()(attention_mul)\n",
    "    output_layer = Dense(1, activation='linear')(flatten_layer)\n",
    "\n",
    "    model = Model(inputs=input_layer, outputs=output_layer)\n",
    "    model.compile(optimizer='adam', loss='mean_squared_error', metrics=['mae', 'mse'])\n",
    "\n",
    "    \n",
    "    # Evaluate the model on the validation set\n",
    "    scores.append(model.evaluate(X_val, Y_val)[1])\n",
    "\n",
    "# Calculate the average score\n",
    "average_score = np.mean(scores)\n",
    "print(\"Average MAE:\", average_score)"
   ]
  },
  {
   "cell_type": "code",
   "execution_count": 29,
   "metadata": {},
   "outputs": [
    {
     "name": "stdout",
     "output_type": "stream",
     "text": [
      "7/7 [==============================] - 0s 64ms/step - loss: 0.8536 - mae: 0.7717 - mse: 0.8536\n",
      "7/7 [==============================] - 1s 67ms/step - loss: 1.2482 - mae: 0.8381 - mse: 1.2482\n",
      "7/7 [==============================] - 1s 80ms/step - loss: 0.9473 - mae: 0.7772 - mse: 0.9473\n",
      "7/7 [==============================] - 1s 83ms/step - loss: 0.9218 - mae: 0.8199 - mse: 0.9218\n",
      "7/7 [==============================] - 1s 102ms/step - loss: 1.0378 - mae: 0.7989 - mse: 1.0378\n",
      "Average MAE: 0.8011541962623596\n",
      "   Fold       MAE\n",
      "0   1.0  0.771653\n",
      "1   2.0  0.838116\n",
      "2   3.0  0.777170\n",
      "3   4.0  0.819942\n",
      "4   5.0  0.798890\n"
     ]
    }
   ],
   "source": [
    "import pandas as pd\n",
    "import numpy as np\n",
    "from sklearn.model_selection import KFold\n",
    "\n",
    "# Perform cross-validation\n",
    "k_fold = KFold(n_splits=5, shuffle=True, random_state=42)\n",
    "\n",
    "# Create an empty DataFrame to store the evaluation scores\n",
    "df_scores = pd.DataFrame(columns=['Fold', 'MAE'])\n",
    "\n",
    "for fold, (train_indices, val_indices) in enumerate(k_fold.split(X), 1):\n",
    "    # Split the data into training and validation sets\n",
    "    X_train, X_val = X[train_indices], X[val_indices]\n",
    "    Y_train, Y_val = Y[train_indices], Y[val_indices]\n",
    "\n",
    "    # Model definition and compilation\n",
    "\n",
    "    # ...\n",
    "\n",
    "    # Evaluate the model on the validation set\n",
    "    fold_score = model.evaluate(X_val, Y_val)[1]\n",
    "\n",
    "    # Append fold score to the DataFrame\n",
    "    df_scores = df_scores.append({'Fold': fold, 'MAE': fold_score}, ignore_index=True)\n",
    "\n",
    "# Calculate the average score\n",
    "average_score = df_scores['MAE'].mean()\n",
    "print(\"Average MAE:\", average_score)\n",
    "print(df_scores)\n"
   ]
  },
  {
   "cell_type": "code",
   "execution_count": 30,
   "metadata": {},
   "outputs": [
    {
     "data": {
      "image/png": "[encoded data removed]",
      "text/plain": [
       "<Figure size 576x432 with 1 Axes>"
      ]
     },
     "metadata": {
      "needs_background": "light"
     },
     "output_type": "display_data"
    },
    {
     "data": {
      "image/png": "[encoded data removed]",
      "text/plain": [
       "<Figure size 576x432 with 1 Axes>"
      ]
     },
     "metadata": {
      "needs_background": "light"
     },
     "output_type": "display_data"
    }
   ],
   "source": [
    "import matplotlib.pyplot as plt\n",
    "import pandas as pd\n",
    "\n",
    "# Cross-validation results\n",
    "data = {'Fold': [1, 2, 3, 4, 5],\n",
    "        'MAE': [0.767187, 0.839136, 0.777169, 0.809557, 0.794446]}\n",
    "\n",
    "# Create a DataFrame from the data\n",
    "df = pd.DataFrame(data)\n",
    "\n",
    "# Bar plot for MAE scores\n",
    "plt.figure(figsize=(8, 6))\n",
    "plt.bar(df['Fold'], df['MAE'])\n",
    "plt.xlabel('Fold')\n",
    "plt.ylabel('MAE')\n",
    "plt.title('Cross-Validation Results - MAE Scores')\n",
    "plt.show()\n",
    "\n",
    "# Box plot for RMSE scores\n",
    "rmse_scores = [0.2972, 0.2880, 0.2657, 0.2523, 0.2726]\n",
    "plt.figure(figsize=(8, 6))\n",
    "plt.boxplot(rmse_scores)\n",
    "plt.xlabel('RMSE')\n",
    "plt.title('Cross-Validation Results - RMSE Scores')\n",
    "plt.show()\n"
   ]
  },
  {
   "cell_type": "code",
   "execution_count": 31,
   "metadata": {},
   "outputs": [
    {
     "data": {
      "image/png": "[encoded data removed]",
      "text/plain": [
       "<Figure size 576x432 with 1 Axes>"
      ]
     },
     "metadata": {
      "needs_background": "light"
     },
     "output_type": "display_data"
    },
    {
     "data": {
      "image/png": "[encoded data removed]",
      "text/plain": [
       "<Figure size 576x432 with 1 Axes>"
      ]
     },
     "metadata": {
      "needs_background": "light"
     },
     "output_type": "display_data"
    }
   ],
   "source": [
    "import matplotlib.pyplot as plt\n",
    "import numpy as np\n",
    "\n",
    "# Data for cross-validation 1\n",
    "cv1_data = {\n",
    "    'Fold': [1, 2, 3, 4, 5],\n",
    "    'MAE': [0.2284, 0.2307, 0.2159, 0.2063, 0.2184]\n",
    "}\n",
    "\n",
    "# Data for cross-validation 2\n",
    "cv2_data = {\n",
    "    'Fold': [1, 2, 3, 4, 5],\n",
    "    'MAE': [0.767187, 0.839136, 0.777169, 0.809557, 0.794446]\n",
    "}\n",
    "\n",
    "# Create a figure and axes\n",
    "fig, ax = plt.subplots(figsize=(8, 6))\n",
    "# Plot the bar chart for cross-validation 1\n",
    "ax.bar(cv1_data['Fold'], cv1_data['MAE'], label='Tradition_Recommender_System', width=0.4, align='center')\n",
    "# Plot the bar chart for cross-validation 2\n",
    "ax.bar(np.array(cv2_data['Fold']) + 0.4, cv2_data['MAE'], label='Deep_Learning_Recommende_System', width=0.4, align='center')\n",
    "# Add labels and title\n",
    "ax.set_xlabel('Fold')\n",
    "ax.set_ylabel('MAE Score')\n",
    "ax.set_title('Comparison of Cross-Validation Results')\n",
    "# Add legend\n",
    "ax.legend()\n",
    "# Show the plot\n",
    "plt.show()\n",
    "\n",
    "# Create a figure and axes\n",
    "fig, ax = plt.subplots(figsize=(8, 6))\n",
    "# Plot the line chart for cross-validation 1\n",
    "ax.plot(cv1_data['Fold'], cv1_data['MAE'], marker='o', label='Tradition_Recommender_System')\n",
    "# Plot the line chart for cross-validation 2\n",
    "ax.plot(cv2_data['Fold'], cv2_data['MAE'], marker='o', label='Deep_Learning_Recommende_System')\n",
    "# Add labels and title\n",
    "ax.set_xlabel('Fold')\n",
    "ax.set_ylabel('MAE Score')\n",
    "ax.set_title('Trend of Cross-Validation MAE Scores')\n",
    "# Add legend\n",
    "ax.legend()\n",
    "# Show the plot\n",
    "plt.show()"
   ]
  },
  {
   "cell_type": "code",
   "execution_count": null,
   "metadata": {},
   "outputs": [],
   "source": []
  }
 ],
 "metadata": {
  "kernelspec": {
   "display_name": "Python 3 (ipykernel)",
   "language": "python",
   "name": "python3"
  },
  "language_info": {
   "codemirror_mode": {
    "name": "ipython",
    "version": 3
   },
   "file_extension": ".py",
   "mimetype": "text/x-python",
   "name": "python",
   "nbconvert_exporter": "python",
   "pygments_lexer": "ipython3",
   "version": "3.7.2"
  }
 },
 "nbformat": 4,
 "nbformat_minor": 2
}
