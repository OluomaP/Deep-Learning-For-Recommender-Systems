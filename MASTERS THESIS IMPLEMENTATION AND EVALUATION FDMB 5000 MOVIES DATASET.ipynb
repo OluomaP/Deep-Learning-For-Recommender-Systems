{
 "cells": [
  {
   "cell_type": "code",
   "execution_count": 1,
   "metadata": {},
   "outputs": [
    {
     "name": "stderr",
     "output_type": "stream",
     "text": [
      "/Users/mac/anaconda3/lib/python3.7/site-packages/pandas/compat/_optional.py:138: UserWarning: Pandas requires version '2.7.0' or newer of 'numexpr' (version '2.6.8' currently installed).\n",
      "  warnings.warn(msg, UserWarning)\n"
     ]
    }
   ],
   "source": [
    "# importation of libraries\n",
    "import pandas as pd\n",
    "import numpy as np\n",
    "import matplotlib.pyplot as plt\n",
    "import seaborn as sns\n",
    "from ast import literal_eval\n",
    "from wordcloud import WordCloud\n",
    "from collections import Counter\n",
    "from sklearn.metrics.pairwise import cosine_similarity\n",
    "from sklearn.feature_extraction.text import TfidfVectorizer\n",
    "from surprise import SVD, KNNBasic, SVD, SVDpp, SlopeOne, NMF, NormalPredictor, KNNBaseline\n",
    "from surprise import Dataset\n",
    "from surprise import Reader\n",
    "from surprise.model_selection import cross_validate\n",
    "from sklearn.metrics import precision_recall_fscore_support\n",
    "from sklearn.model_selection import train_test_split\n",
    "from sklearn.metrics import mean_absolute_error, mean_squared_error, precision_score, recall_score, f1_score,accuracy_score\n",
    "import time"
   ]
  },
  {
   "cell_type": "code",
   "execution_count": 2,
   "metadata": {},
   "outputs": [],
   "source": [
    "#Load the dataset\n",
    "credits = pd.read_csv('tmdb_5000_credits.csv')\n",
    "movie = pd.read_csv('tmdb_5000_movies.csv')\n",
    "\n",
    "#Pre-process the Dataset\n",
    "credits = credits.rename(columns={'movie_id': 'id'})\n",
    "merged_data = movie.merge(credits, on='id')"
   ]
  },
  {
   "cell_type": "code",
   "execution_count": 3,
   "metadata": {},
   "outputs": [],
   "source": [
    "#Pre-process the Dataset\n",
    "credits = credits.rename(columns={'movie_id': 'id'})\n",
    "merged_data = movie.merge(credits, on='id')"
   ]
  },
  {
   "cell_type": "code",
   "execution_count": 4,
   "metadata": {},
   "outputs": [],
   "source": [
    "from ast import literal_eval\n",
    "def get_text(text, obj='name'):\n",
    "    text = literal_eval(text)\n",
    "    \n",
    "    if len(text) == 1:\n",
    "        for i in text:\n",
    "            return i[obj]\n",
    "    else:\n",
    "        s = []\n",
    "        for i in text:\n",
    "            s.append(i[obj])\n",
    "        return ', '.join(s)\n",
    "    \n",
    "merged_data['genres'] = merged_data['genres'].apply(get_text)\n",
    "merged_data['production_companies'] = merged_data['production_companies'].apply(get_text)\n",
    "merged_data['production_countries'] = merged_data['production_countries'].apply(get_text)\n",
    "merged_data['crew'] = merged_data['crew'].apply(get_text)\n",
    "merged_data['spoken_languages'] = merged_data['spoken_languages'].apply(get_text)\n",
    "merged_data['keywords'] = merged_data['keywords'].apply(get_text)\n",
    "\n",
    "# New columns\n",
    "merged_data['characters'] = merged_data['cast'].apply(get_text, obj='character')\n",
    "merged_data['actors'] = merged_data['cast'].apply(get_text)\n",
    "\n",
    "merged_data.drop('cast', axis=1, inplace=True)\n",
    "merged_data = merged_data[~merged_data['original_title'].duplicated()]\n",
    "merged_data = merged_data.reset_index(drop=True)"
   ]
  },
  {
   "cell_type": "markdown",
   "metadata": {},
   "source": [
    "# CONTENT BASED ALGORITHM"
   ]
  },
  {
   "cell_type": "code",
   "execution_count": 5,
   "metadata": {},
   "outputs": [],
   "source": [
    "# Encode the movie features to represent them as feature vectors\n",
    "tfidf_vectorizer = TfidfVectorizer(stop_words='english')\n",
    "tfidf_matrix = tfidf_vectorizer.fit_transform(merged_data['genres'])"
   ]
  },
  {
   "cell_type": "code",
   "execution_count": 6,
   "metadata": {},
   "outputs": [],
   "source": [
    "# Implement the content-based filtering algorithm to compute similarities and generate recommendations\n",
    "cosine_similarities = cosine_similarity(tfidf_matrix, tfidf_matrix)"
   ]
  },
  {
   "cell_type": "code",
   "execution_count": 7,
   "metadata": {},
   "outputs": [],
   "source": [
    "# Helper function to get movie recommendations based on a given movie title\n",
    "def content_based_model(title, cosine_similarities, indices, top_n=10):\n",
    "    # Find the index of the movie in the dataset\n",
    "    index = indices[title]\n",
    "    \n",
    "    # Get the pairwise similarities for the movie with other movies\n",
    "    similarity_scores = list(enumerate(cosine_similarities[index]))\n",
    "    \n",
    "    # Sort the movies based on similarity scores\n",
    "    similarity_scores = sorted(similarity_scores, key=lambda x: x[1], reverse=True)\n",
    "    \n",
    "    # Get the top N similar movies (excluding the movie itself)\n",
    "    top_movies = similarity_scores[1:top_n+1]\n",
    "    \n",
    "    # Get the titles of the top N similar movies\n",
    "    movie_indices = [i[0] for i in top_movies]\n",
    "    recommended_movies = merged_data['original_title'].iloc[movie_indices]\n",
    "    \n",
    "    return recommended_movies"
   ]
  },
  {
   "cell_type": "code",
   "execution_count": 8,
   "metadata": {},
   "outputs": [
    {
     "name": "stdout",
     "output_type": "stream",
     "text": [
      "Recommendations for 'Avatar':\n",
      "10                               Superman Returns\n",
      "14                                   Man of Steel\n",
      "46                     X-Men: Days of Future Past\n",
      "61                              Jupiter Ascending\n",
      "232                                 The Wolverine\n",
      "813                                      Superman\n",
      "870                                   Superman II\n",
      "3494    Beastmaster 2: Through the Portal of Time\n",
      "238                  Teenage Mutant Ninja Turtles\n",
      "618                                   Mystery Men\n",
      "Name: original_title, dtype: object\n"
     ]
    }
   ],
   "source": [
    "# Create a dictionary to map movie titles to their indices in the dataset\n",
    "indices = pd.Series(merged_data.index, index=merged_data['original_title']).drop_duplicates()\n",
    "\n",
    "# Example usage: Get content-based recommendations for a movie\n",
    "movie_title = 'Avatar'\n",
    "recommendations = content_based_model(movie_title, cosine_similarities, indices)\n",
    "print(f\"Recommendations for '{movie_title}':\\n{recommendations}\")\n",
    "\n"
   ]
  },
  {
   "cell_type": "code",
   "execution_count": 9,
   "metadata": {},
   "outputs": [
    {
     "name": "stdout",
     "output_type": "stream",
     "text": [
      "Precision: 0.8\n",
      "Recall: 0.8\n",
      "F1 Score: 0.8000000000000002\n"
     ]
    }
   ],
   "source": [
    "# Example usage: Get content-based recommendations for a movie\n",
    "movie_title = 'Avatar'\n",
    "ground_truth = ['Superman Returns', 'Man of Steel', 'Jupiter Ascending', 'X-Men: Days of Future Past', 'The Wolverine', 'Superman', 'Superman II', 'Beastmaster 2: Through the Portal of Time', 'Teenage Mutant Ninja Turtles', 'Mystery Men']\n",
    "\n",
    "recommendations = content_based_model(movie_title, cosine_similarities, indices)\n",
    "\n",
    "# Convert recommendations and ground truth to lists\n",
    "recommendations_list = recommendations.tolist()\n",
    "ground_truth_list = ground_truth\n",
    "\n",
    "# Compute evaluation metrics\n",
    "precision = precision_score(ground_truth_list, recommendations_list, average='micro')\n",
    "recall = recall_score(ground_truth_list, recommendations_list, average='micro')\n",
    "f1 = f1_score(ground_truth_list, recommendations_list, average='micro')\n",
    "\n",
    "# Print the evaluation metrics\n",
    "print(\"Precision:\", precision)\n",
    "print(\"Recall:\", recall)\n",
    "print(\"F1 Score:\", f1)\n"
   ]
  },
  {
   "cell_type": "markdown",
   "metadata": {},
   "source": [
    "# COLLABORATIVE FILTERING"
   ]
  },
  {
   "cell_type": "code",
   "execution_count": 10,
   "metadata": {},
   "outputs": [],
   "source": [
    "# Example usage: Get collaborative filtering recommendations for a user\n",
    "user_id = 1\n",
    "n_recommendations = 10"
   ]
  },
  {
   "cell_type": "code",
   "execution_count": 11,
   "metadata": {},
   "outputs": [],
   "source": [
    "   # Create a user-item matrix to capture user-item interactions\n",
    "reader = Reader(rating_scale=(1, 5))\n",
    "data = Dataset.load_from_df(merged_data[['original_title', 'id', 'vote_average']], reader)\n",
    "# Split the data into train and test sets\n",
    "trainset = data.build_full_trainset()\n",
    "testset = trainset.build_anti_testset()\n"
   ]
  },
  {
   "cell_type": "code",
   "execution_count": 12,
   "metadata": {
    "scrolled": true
   },
   "outputs": [
    {
     "name": "stdout",
     "output_type": "stream",
     "text": [
      "Recommendations for user 1:\n",
      "0                                      Avatar\n",
      "1    Pirates of the Caribbean: At World's End\n",
      "2                                     Spectre\n",
      "3                       The Dark Knight Rises\n",
      "4                                 John Carter\n",
      "5                                Spider-Man 3\n",
      "6                                     Tangled\n",
      "7                     Avengers: Age of Ultron\n",
      "8      Harry Potter and the Half-Blood Prince\n",
      "9          Batman v Superman: Dawn of Justice\n",
      "Name: original_title, dtype: object\n"
     ]
    }
   ],
   "source": [
    "from surprise import SVD\n",
    "\n",
    "# Example usage: Get collaborative filtering recommendations for a user\n",
    "user_id = 1\n",
    "n_recommendations = 10\n",
    "\n",
    "# Create a user-item matrix to capture user-item interactions\n",
    "reader = Reader(rating_scale=(1, 5))\n",
    "data = Dataset.load_from_df(merged_data[['original_title', 'id', 'vote_average']], reader)\n",
    "# Split the data into train and test sets\n",
    "trainset = data.build_full_trainset()\n",
    "testset = trainset.build_anti_testset()\n",
    "\n",
    "\n",
    "\n",
    "# Implement the collaborative filtering algorithm (SVD) to calculate similarities and generate recommendations\n",
    "algo = SVD()\n",
    "algo.fit(trainset)\n",
    "\n",
    "    # Example usage: Get collaborative filtering recommendations for a user\n",
    "user_id = 1\n",
    "n_recommendations = 10\n",
    "\n",
    "    # Get the items (movies) the user hasn't rated\n",
    "user_unrated_movies = merged_data[~merged_data['id'].isin(merged_data[merged_data['id'] == user_id]['id'])]['id']\n",
    "\n",
    "    # Predict ratings for the user on the unrated movies\n",
    "predictions = [algo.predict(user_id, movie_id) for movie_id in user_unrated_movies]\n",
    "\n",
    "    # Sort the predictions by estimated rating in descending order\n",
    "predictions.sort(key=lambda x: x.est, reverse=True)\n",
    "\n",
    "    #Get the top N recommendations\n",
    "collaborative_filtering_model = [prediction.iid for prediction in predictions[:n_recommendations]]\n",
    "\n",
    "\n",
    "# Get the movie titles of the recommended movies\n",
    "recommended_movie_titles = merged_data[merged_data['id'].isin(collaborative_filtering_model)]['original_title']\n",
    "print(f\"Recommendations for user {user_id}:\\n{recommended_movie_titles}\")  "
   ]
  },
  {
   "cell_type": "code",
   "execution_count": 13,
   "metadata": {},
   "outputs": [],
   "source": [
    "# Evaluate the model\n",
    "predictions = algo.test(testset)\n"
   ]
  },
  {
   "cell_type": "code",
   "execution_count": 14,
   "metadata": {},
   "outputs": [
    {
     "name": "stdout",
     "output_type": "stream",
     "text": [
      "Evaluating RMSE, MAE of algorithm SVD on 5 split(s).\n",
      "\n",
      "                  Fold 1  Fold 2  Fold 3  Fold 4  Fold 5  Mean    Std     \n",
      "RMSE (testset)    1.6293  1.5586  1.5980  1.6348  1.6708  1.6183  0.0378  \n",
      "MAE (testset)     1.3981  1.3239  1.3508  1.3775  1.3960  1.3693  0.0284  \n",
      "Fit time          0.60    0.52    0.45    0.44    0.47    0.50    0.06    \n",
      "Test time         0.02    0.02    0.01    0.01    0.01    0.01    0.00    \n"
     ]
    },
    {
     "data": {
      "text/plain": [
       "{'test_rmse': array([1.62932287, 1.55856839, 1.59800005, 1.63479102, 1.67079073]),\n",
       " 'test_mae': array([1.39812695, 1.32385417, 1.35083333, 1.3775    , 1.39604167]),\n",
       " 'fit_time': (0.596235990524292,\n",
       "  0.5220198631286621,\n",
       "  0.4533538818359375,\n",
       "  0.4394979476928711,\n",
       "  0.47319912910461426),\n",
       " 'test_time': (0.016138076782226562,\n",
       "  0.015444040298461914,\n",
       "  0.010853052139282227,\n",
       "  0.01266789436340332,\n",
       "  0.008410930633544922)}"
      ]
     },
     "execution_count": 14,
     "metadata": {},
     "output_type": "execute_result"
    }
   ],
   "source": [
    "cross_validate(algo, data, measures=['RMSE', 'MAE'], cv=5, verbose=True)"
   ]
  },
  {
   "cell_type": "code",
   "execution_count": 15,
   "metadata": {},
   "outputs": [
    {
     "name": "stdout",
     "output_type": "stream",
     "text": [
      "RMSE: 1.0922\n",
      "MAE:  1.0922\n"
     ]
    }
   ],
   "source": [
    "from surprise import accuracy# Compute evaluation metrics\n",
    "from sklearn.metrics import precision_recall_fscore_support\n",
    "# Compute evaluation metrics\n",
    "rmse = accuracy.rmse(predictions)\n",
    "mae = accuracy.mae(predictions)"
   ]
  },
  {
   "cell_type": "code",
   "execution_count": 16,
   "metadata": {},
   "outputs": [],
   "source": [
    "precision, recall, f1_score, _ = precision_recall_fscore_support([int(pred.r_ui >= 7) for pred in predictions],\n",
    "                                                                 [int(pred.est >= 7) for pred in predictions],\n",
    "                                                                 average='micro')"
   ]
  },
  {
   "cell_type": "code",
   "execution_count": 17,
   "metadata": {},
   "outputs": [
    {
     "name": "stdout",
     "output_type": "stream",
     "text": [
      "Precision: 1.0\n",
      "Recall: 1.0\n",
      "F1 Score: 1.0\n",
      "Mean Absolute Error (MAE): 1.0922147619960123\n"
     ]
    }
   ],
   "source": [
    "# Print the evaluation metrics\n",
    "\n",
    "print(\"Precision:\", precision)\n",
    "print(\"Recall:\", recall)\n",
    "print(\"F1 Score:\", f1_score)\n",
    "print(\"Mean Absolute Error (MAE):\", mae)"
   ]
  },
  {
   "cell_type": "markdown",
   "metadata": {},
   "source": [
    "# HYBRID ALGORITHM"
   ]
  },
  {
   "cell_type": "code",
   "execution_count": 18,
   "metadata": {},
   "outputs": [
    {
     "name": "stdout",
     "output_type": "stream",
     "text": [
      "Computing the msd similarity matrix...\n",
      "Done computing similarity matrix.\n",
      "Computing the msd similarity matrix...\n",
      "Done computing similarity matrix.\n",
      "Computing the msd similarity matrix...\n",
      "Done computing similarity matrix.\n",
      "Computing the msd similarity matrix...\n",
      "Done computing similarity matrix.\n",
      "Computing the msd similarity matrix...\n",
      "Done computing similarity matrix.\n",
      "Evaluating RMSE, MAE of algorithm KNNBasic on 5 split(s).\n",
      "\n",
      "                  Fold 1  Fold 2  Fold 3  Fold 4  Fold 5  Mean    Std     \n",
      "RMSE (testset)    1.1896  1.1050  1.1787  1.2479  1.2476  1.1938  0.0528  \n",
      "MAE (testset)     0.8333  0.7844  0.8230  0.8609  0.8285  0.8260  0.0246  \n",
      "Fit time          1.14    0.97    1.29    0.84    0.88    1.02    0.17    \n",
      "Test time         0.03    0.04    0.01    0.01    0.01    0.02    0.01    \n",
      "Hybrid Recommendations for user 1:\n",
      "5                                    Spider-Man 3\n",
      "9              Batman v Superman: Dawn of Justice\n",
      "12     Pirates of the Caribbean: Dead Man's Chest\n",
      "17    Pirates of the Caribbean: On Stranger Tides\n",
      "19      The Hobbit: The Battle of the Five Armies\n",
      "20                         The Amazing Spider-Man\n",
      "30                                   Spider-Man 2\n",
      "38                       The Amazing Spider-Man 2\n",
      "71          The Mummy: Tomb of the Dragon Emperor\n",
      "98              The Hobbit: An Unexpected Journey\n",
      "Name: original_title, dtype: object\n"
     ]
    }
   ],
   "source": [
    "import pandas as pd\n",
    "from surprise import Reader, Dataset, KNNBasic\n",
    "from sklearn.model_selection import train_test_split\n",
    "from sklearn.feature_extraction.text import TfidfVectorizer\n",
    "from sklearn.metrics.pairwise import linear_kernel\n",
    "\n",
    "\n",
    "\n",
    "# Prepare the data for Surprise\n",
    "reader = Reader(rating_scale=(0, 10))\n",
    "data = Dataset.load_from_df(merged_data[['id', 'original_title', 'vote_average']], reader)\n",
    "\n",
    "# Define and train the collaborative filtering algorithm\n",
    "algo_collab = KNNBasic()\n",
    "\n",
    "# Train the algorithm using cross-validation\n",
    "cross_validate(algo_collab, data, measures=['RMSE','MAE'], cv=5, verbose=True)\n",
    "\n",
    "# Prepare the data for content-based filtering\n",
    "tfidf = TfidfVectorizer(stop_words='english')\n",
    "movie_overview_matrix = tfidf.fit_transform(merged_data['genres'].fillna(''))\n",
    "\n",
    "# Compute similarity scores between movies based on the movie overviews\n",
    "cosine_similarities = linear_kernel(movie_overview_matrix, movie_overview_matrix)\n",
    "\n",
    "# Function to get movie recommendations based on content similarity\n",
    "def content_based_recommendations(movie_title, cosine_similarities, indices):\n",
    "    movie_index = indices[movie_title]\n",
    "    similarity_scores = list(enumerate(cosine_similarities[movie_index]))\n",
    "    similarity_scores = sorted(similarity_scores, key=lambda x: x[1], reverse=True)\n",
    "    top_similar_movies = similarity_scores[1:11]\n",
    "    top_movie_indices = [index for index, _ in top_similar_movies]\n",
    "    return merged_data['original_title'].iloc[top_movie_indices]\n",
    "def get_collaborative_filtering_recommendations(user_id, n_recommendations=10):\n",
    "    # Create a user-item matrix to capture user-item interactions\n",
    "    reader = Reader(rating_scale=(1, 5))\n",
    "    data = Dataset.load_from_df(merged_data[['original_title', 'id', 'vote_average']], reader)\n",
    "    # Split the data into train and test sets\n",
    "    trainset = data.build_full_trainset()\n",
    "    testset = trainset.build_anti_testset()\n",
    "    # Example usage: Get collaborative filtering recommendations for a user\n",
    "    user_id = 1\n",
    "    n_recommendations = 10\n",
    "    # Get the items (movies) the user hasn't rated\n",
    "    user_unrated_movies = merged_data[~merged_data['id'].isin(merged_data[merged_data['id'] == user_id]['id'])]['id']\n",
    "    # Predict ratings for the user on the unrated movies\n",
    "    predictions = [algo.predict(user_id, movie_id) for movie_id in user_unrated_movies]\n",
    "    # Sort the predictions by estimated rating in descending order\n",
    "    predictions.sort(key=lambda x: x.est, reverse=True)\n",
    "    # Get the top N recommendations\n",
    "    recommended_movies = [prediction.iid for prediction in predictions[:n_recommendations]]\n",
    "    # Get the movie titles of the recommended movies\n",
    "    recommended_movie_titles = merged_data[merged_data['id'].isin(recommended_movies)]['original_title']\n",
    "    return recommended_movie_titles\n",
    "def hybrid_recommender(user_id, n_recommendations):\n",
    "    # Get content-based recommendations for the user\n",
    "    content_based_recommendations = content_based_model(user_id, cosine_similarities, indices, top_n=n_recommendations)\n",
    "\n",
    "    # Get collaborative filtering recommendations for the user\n",
    "    collaborative_filtering_recommendations = get_collaborative_filtering_recommendations(user_id, n_recommendations)\n",
    "\n",
    "    # Combine the recommendations\n",
    "    hybrid_recommendations = content_based_recommendations.append(collaborative_filtering_recommendations)\n",
    "    hybrid_recommendations = hybrid_recommendations.drop_duplicates().head(n_recommendations)\n",
    "\n",
    "    return hybrid_recommendations\n",
    "#Example usage: Get hybrid recommendations for a user\n",
    "user_id = 1 \n",
    "n_recommendations = 10\n",
    "recommended_movies = hybrid_recommender(user_id, n_recommendations) \n",
    "print(f\"Hybrid Recommendations for user {user_id}:\\n{recommended_movies}\")\n"
   ]
  },
  {
   "cell_type": "code",
   "execution_count": 19,
   "metadata": {},
   "outputs": [
    {
     "data": {
      "image/png": "[encoded data removed]",
      "text/plain": [
       "<Figure size 576x432 with 1 Axes>"
      ]
     },
     "metadata": {
      "needs_background": "light"
     },
     "output_type": "display_data"
    },
    {
     "data": {
      "image/png": "[encoded data removed]",
      "text/plain": [
       "<Figure size 576x432 with 1 Axes>"
      ]
     },
     "metadata": {
      "needs_background": "light"
     },
     "output_type": "display_data"
    },
    {
     "data": {
      "image/png": "[encoded data removed]",
      "text/plain": [
       "<Figure size 576x432 with 1 Axes>"
      ]
     },
     "metadata": {
      "needs_background": "light"
     },
     "output_type": "display_data"
    }
   ],
   "source": [
    "import matplotlib.pyplot as plt\n",
    "\n",
    "# Cross-validation 1 data\n",
    "cv1_rmse = [1.1746, 1.2045, 1.2171, 1.1960, 1.1827]\n",
    "cv1_fit_time = [0.71, 0.76, 0.89, 0.76, 0.85]\n",
    "cv1_test_time = [0.02, 0.02, 0.02, 0.01, 0.01]\n",
    "\n",
    "# Cross-validation 2 data\n",
    "cv2_rmse = [1.6462, 1.6316, 1.5871, 1.5762, 1.6512]\n",
    "cv2_mae = [1.4005, 1.3803, 1.3300, 1.3466, 1.3890]\n",
    "cv2_fit_time = [0.68, 0.41, 0.44, 0.47, 0.46]\n",
    "cv2_test_time = [0.01, 0.01, 0.01, 0.01, 0.01]\n",
    "\n",
    "# Plotting RMSE comparison\n",
    "plt.figure(figsize=(8, 6))\n",
    "plt.plot(range(1, 6), cv1_rmse, marker='o', label='Hybrid Recommender')\n",
    "plt.plot(range(1, 6), cv2_rmse, marker='o', label='Collaborative Filtering')\n",
    "plt.xlabel('Fold')\n",
    "plt.ylabel('RMSE')\n",
    "plt.title('RMSE Comparison')\n",
    "plt.legend()\n",
    "plt.show()\n",
    "\n",
    "# Plotting Fit Time comparison\n",
    "plt.figure(figsize=(8, 6))\n",
    "plt.plot(range(1, 6), cv1_fit_time, marker='o', label='Hybrid Recommender')\n",
    "plt.plot(range(1, 6), cv2_fit_time, marker='o', label='Collaborative Filtering')\n",
    "plt.xlabel('Fold')\n",
    "plt.ylabel('Fit Time (s)')\n",
    "plt.title('Fit Time Comparison')\n",
    "plt.legend()\n",
    "plt.show()\n",
    "\n",
    "# Plotting Test Time comparison\n",
    "plt.figure(figsize=(8, 6))\n",
    "plt.plot(range(1, 6), cv1_test_time, marker='o', label='Hybrid Recommender')\n",
    "plt.plot(range(1, 6), cv2_test_time, marker='o', label='Collaborative Filtering')\n",
    "plt.xlabel('Fold')\n",
    "plt.ylabel('Test Time (s)')\n",
    "plt.title('Test Time Comparison')\n",
    "plt.legend()\n",
    "plt.show()\n"
   ]
  },
  {
   "cell_type": "markdown",
   "metadata": {},
   "source": [
    "# ATTENTION MECHANISM"
   ]
  },
  {
   "cell_type": "code",
   "execution_count": 20,
   "metadata": {},
   "outputs": [
    {
     "name": "stderr",
     "output_type": "stream",
     "text": [
      "2023-05-19 08:18:01.910542: I tensorflow/core/platform/cpu_feature_guard.cc:193] This TensorFlow binary is optimized with oneAPI Deep Neural Network Library (oneDNN) to use the following CPU instructions in performance-critical operations:  AVX2 FMA\n",
      "To enable them in other operations, rebuild TensorFlow with the appropriate compiler flags.\n"
     ]
    }
   ],
   "source": [
    "from keras.layers import Input, Embedding, LSTM, Dense, Flatten\n",
    "from keras.layers import concatenate, dot\n",
    "from keras.layers import Multiply, Permute, Reshape, Lambda\n",
    "from keras.models import Model\n",
    "from keras.callbacks import EarlyStopping\n",
    "from keras.preprocessing.text import Tokenizer\n",
    "from tensorflow.keras.preprocessing.sequence import pad_sequences"
   ]
  },
  {
   "cell_type": "code",
   "execution_count": 21,
   "metadata": {},
   "outputs": [],
   "source": [
    "# Define the input shape\n",
    "maxlen = 165\n",
    "\n",
    "# Tokenize the text data\n",
    "tokenizer = Tokenizer(num_words=5000)\n",
    "tokenizer.fit_on_texts(merged_data['genres'])\n",
    "sequences = tokenizer.texts_to_sequences(merged_data['genres'])\n",
    "X = pad_sequences(sequences, maxlen=maxlen)\n",
    "\n"
   ]
  },
  {
   "cell_type": "code",
   "execution_count": 22,
   "metadata": {},
   "outputs": [],
   "source": [
    "# Scale the target variable\n",
    "Y = merged_data['vote_average'].values\n",
    "Y = (Y - Y.mean()) / Y.std()\n",
    "\n",
    "# Split the data into training and testing sets\n",
    "X_train, X_test, Y_train, Y_test = train_test_split(X, Y, test_size=0.2, random_state=42)"
   ]
  },
  {
   "cell_type": "code",
   "execution_count": 23,
   "metadata": {},
   "outputs": [
    {
     "name": "stderr",
     "output_type": "stream",
     "text": [
      "2023-05-19 08:18:21.615642: I tensorflow/core/platform/cpu_feature_guard.cc:193] This TensorFlow binary is optimized with oneAPI Deep Neural Network Library (oneDNN) to use the following CPU instructions in performance-critical operations:  AVX2 FMA\n",
      "To enable them in other operations, rebuild TensorFlow with the appropriate compiler flags.\n"
     ]
    }
   ],
   "source": [
    "# Define the model architecture\n",
    "input_layer = Input(shape=(maxlen,))\n",
    "embedding_layer = Embedding(input_dim=5000, output_dim=128, input_length=maxlen)(input_layer)\n",
    "lstm_layer = LSTM(128, dropout=0.2, recurrent_dropout=0.2, return_sequences=True)(embedding_layer)"
   ]
  },
  {
   "cell_type": "code",
   "execution_count": 24,
   "metadata": {},
   "outputs": [],
   "source": [
    "# Attention Mechanism\n",
    "attention_probs = Dense(128, activation='softmax', name='attention_probs')(lstm_layer)\n",
    "attention_mul = dot([attention_probs, lstm_layer], axes=[1, 1])"
   ]
  },
  {
   "cell_type": "code",
   "execution_count": 25,
   "metadata": {},
   "outputs": [],
   "source": [
    "flatten_layer = Flatten()(attention_mul)\n",
    "output_layer = Dense(1, activation='linear')(flatten_layer)"
   ]
  },
  {
   "cell_type": "code",
   "execution_count": 26,
   "metadata": {},
   "outputs": [],
   "source": [
    "attention_model = Model(inputs=input_layer, outputs=output_layer)"
   ]
  },
  {
   "cell_type": "code",
   "execution_count": 27,
   "metadata": {},
   "outputs": [],
   "source": [
    "import keras.backend as K\n",
    "\n",
    "def rmse(y_true, y_pred):\n",
    "    return K.sqrt(K.mean(K.square(y_pred - y_true), axis=-1))"
   ]
  },
  {
   "cell_type": "code",
   "execution_count": 28,
   "metadata": {},
   "outputs": [],
   "source": [
    "attention_model.compile(optimizer='adam', loss='mean_squared_error', metrics=['mae', 'mse', rmse])"
   ]
  },
  {
   "cell_type": "code",
   "execution_count": 29,
   "metadata": {},
   "outputs": [
    {
     "name": "stdout",
     "output_type": "stream",
     "text": [
      "Epoch 1/50\n",
      "WARNING:tensorflow:AutoGraph could not transform <function Model.make_train_function.<locals>.train_function at 0x7fed4bd71d90> and will run it as-is.\n",
      "Please report this to the TensorFlow team. When filing the bug, set the verbosity to 10 (on Linux, `export AUTOGRAPH_VERBOSITY=10`) and attach the full output.\n",
      "Cause: 'arguments' object has no attribute 'posonlyargs'\n",
      "To silence this warning, decorate the function with @tf.autograph.experimental.do_not_convert\n",
      "WARNING: AutoGraph could not transform <function Model.make_train_function.<locals>.train_function at 0x7fed4bd71d90> and will run it as-is.\n",
      "Please report this to the TensorFlow team. When filing the bug, set the verbosity to 10 (on Linux, `export AUTOGRAPH_VERBOSITY=10`) and attach the full output.\n",
      "Cause: 'arguments' object has no attribute 'posonlyargs'\n",
      "To silence this warning, decorate the function with @tf.autograph.experimental.do_not_convert\n",
      "WARNING:tensorflow:AutoGraph could not transform <function rmse at 0x7fef59c530d0> and will run it as-is.\n",
      "Please report this to the TensorFlow team. When filing the bug, set the verbosity to 10 (on Linux, `export AUTOGRAPH_VERBOSITY=10`) and attach the full output.\n",
      "Cause: 'arguments' object has no attribute 'posonlyargs'\n",
      "To silence this warning, decorate the function with @tf.autograph.experimental.do_not_convert\n",
      "WARNING: AutoGraph could not transform <function rmse at 0x7fef59c530d0> and will run it as-is.\n",
      "Please report this to the TensorFlow team. When filing the bug, set the verbosity to 10 (on Linux, `export AUTOGRAPH_VERBOSITY=10`) and attach the full output.\n",
      "Cause: 'arguments' object has no attribute 'posonlyargs'\n",
      "To silence this warning, decorate the function with @tf.autograph.experimental.do_not_convert\n",
      "120/120 [==============================] - ETA: 0s - loss: 0.9933 - mae: 0.6941 - mse: 0.9933 - rmse: 0.6941WARNING:tensorflow:AutoGraph could not transform <function Model.make_test_function.<locals>.test_function at 0x7fed4d37df28> and will run it as-is.\n",
      "Please report this to the TensorFlow team. When filing the bug, set the verbosity to 10 (on Linux, `export AUTOGRAPH_VERBOSITY=10`) and attach the full output.\n",
      "Cause: 'arguments' object has no attribute 'posonlyargs'\n",
      "To silence this warning, decorate the function with @tf.autograph.experimental.do_not_convert\n",
      "WARNING: AutoGraph could not transform <function Model.make_test_function.<locals>.test_function at 0x7fed4d37df28> and will run it as-is.\n",
      "Please report this to the TensorFlow team. When filing the bug, set the verbosity to 10 (on Linux, `export AUTOGRAPH_VERBOSITY=10`) and attach the full output.\n",
      "Cause: 'arguments' object has no attribute 'posonlyargs'\n",
      "To silence this warning, decorate the function with @tf.autograph.experimental.do_not_convert\n",
      "120/120 [==============================] - 92s 708ms/step - loss: 0.9933 - mae: 0.6941 - mse: 0.9933 - rmse: 0.6941 - val_loss: 1.0571 - val_mae: 0.6945 - val_mse: 1.0571 - val_rmse: 0.6945\n",
      "Epoch 2/50\n",
      "120/120 [==============================] - 79s 652ms/step - loss: 0.9891 - mae: 0.6888 - mse: 0.9891 - rmse: 0.6888 - val_loss: 1.0534 - val_mae: 0.6960 - val_mse: 1.0534 - val_rmse: 0.6960\n",
      "Epoch 3/50\n",
      "120/120 [==============================] - 67s 562ms/step - loss: 0.9861 - mae: 0.6880 - mse: 0.9861 - rmse: 0.6880 - val_loss: 1.0216 - val_mae: 0.6732 - val_mse: 1.0216 - val_rmse: 0.6732\n",
      "Epoch 4/50\n",
      "120/120 [==============================] - 68s 564ms/step - loss: 0.9350 - mae: 0.6591 - mse: 0.9350 - rmse: 0.6591 - val_loss: 1.0086 - val_mae: 0.6555 - val_mse: 1.0086 - val_rmse: 0.6555\n",
      "Epoch 5/50\n",
      "120/120 [==============================] - 61s 510ms/step - loss: 0.9236 - mae: 0.6568 - mse: 0.9236 - rmse: 0.6568 - val_loss: 0.9936 - val_mae: 0.6816 - val_mse: 0.9936 - val_rmse: 0.6816\n",
      "Epoch 6/50\n",
      "120/120 [==============================] - 56s 470ms/step - loss: 0.9027 - mae: 0.6503 - mse: 0.9027 - rmse: 0.6503 - val_loss: 0.9733 - val_mae: 0.6558 - val_mse: 0.9733 - val_rmse: 0.6558\n",
      "Epoch 7/50\n",
      "120/120 [==============================] - 57s 475ms/step - loss: 0.8957 - mae: 0.6444 - mse: 0.8957 - rmse: 0.6444 - val_loss: 0.9677 - val_mae: 0.6459 - val_mse: 0.9677 - val_rmse: 0.6459\n",
      "Epoch 8/50\n",
      "120/120 [==============================] - 61s 510ms/step - loss: 0.8906 - mae: 0.6417 - mse: 0.8906 - rmse: 0.6417 - val_loss: 0.9579 - val_mae: 0.6482 - val_mse: 0.9579 - val_rmse: 0.6482\n",
      "Epoch 9/50\n",
      "120/120 [==============================] - 62s 515ms/step - loss: 0.8886 - mae: 0.6434 - mse: 0.8886 - rmse: 0.6434 - val_loss: 0.9703 - val_mae: 0.6446 - val_mse: 0.9703 - val_rmse: 0.6446\n",
      "Epoch 10/50\n",
      "120/120 [==============================] - 55s 455ms/step - loss: 0.8807 - mae: 0.6384 - mse: 0.8807 - rmse: 0.6384 - val_loss: 0.9653 - val_mae: 0.6426 - val_mse: 0.9653 - val_rmse: 0.6426\n",
      "Epoch 11/50\n",
      "120/120 [==============================] - 54s 448ms/step - loss: 0.8810 - mae: 0.6352 - mse: 0.8810 - rmse: 0.6352 - val_loss: 0.9794 - val_mae: 0.6449 - val_mse: 0.9794 - val_rmse: 0.6449\n",
      "Epoch 11: early stopping\n"
     ]
    }
   ],
   "source": [
    "# Train the model\n",
    "attention_es = EarlyStopping(monitor='val_loss', mode='min', verbose=1, patience=3)\n",
    "history = attention_model.fit(X_train, Y_train, validation_data=(X_test, Y_test), epochs=50, batch_size=32, callbacks=[attention_es])"
   ]
  },
  {
   "cell_type": "code",
   "execution_count": 30,
   "metadata": {},
   "outputs": [
    {
     "name": "stdout",
     "output_type": "stream",
     "text": [
      "MAE: 0.6449110507965088\n",
      "RMSE: 0.9896215464926947\n"
     ]
    }
   ],
   "source": [
    "from sklearn.model_selection import cross_val_score\n",
    "# Evaluate the model on the test set\n",
    "scores = attention_model.evaluate(X_test, Y_test, verbose=0)\n",
    "print(\"MAE:\", scores[1])\n",
    "print(\"RMSE:\", np.sqrt(scores[2]))"
   ]
  },
  {
   "cell_type": "code",
   "execution_count": 31,
   "metadata": {},
   "outputs": [
    {
     "name": "stdout",
     "output_type": "stream",
     "text": [
      "WARNING:tensorflow:AutoGraph could not transform <function Model.make_test_function.<locals>.test_function at 0x7fed4b8dad08> and will run it as-is.\n",
      "Please report this to the TensorFlow team. When filing the bug, set the verbosity to 10 (on Linux, `export AUTOGRAPH_VERBOSITY=10`) and attach the full output.\n",
      "Cause: 'arguments' object has no attribute 'posonlyargs'\n",
      "To silence this warning, decorate the function with @tf.autograph.experimental.do_not_convert\n",
      "WARNING: AutoGraph could not transform <function Model.make_test_function.<locals>.test_function at 0x7fed4b8dad08> and will run it as-is.\n",
      "Please report this to the TensorFlow team. When filing the bug, set the verbosity to 10 (on Linux, `export AUTOGRAPH_VERBOSITY=10`) and attach the full output.\n",
      "Cause: 'arguments' object has no attribute 'posonlyargs'\n",
      "To silence this warning, decorate the function with @tf.autograph.experimental.do_not_convert\n",
      "31/31 [==============================] - 4s 84ms/step - loss: 1.0543 - mae: 0.6970 - mse: 1.0543\n",
      "WARNING:tensorflow:AutoGraph could not transform <function Model.make_test_function.<locals>.test_function at 0x7fed58d8a1e0> and will run it as-is.\n",
      "Please report this to the TensorFlow team. When filing the bug, set the verbosity to 10 (on Linux, `export AUTOGRAPH_VERBOSITY=10`) and attach the full output.\n",
      "Cause: 'arguments' object has no attribute 'posonlyargs'\n",
      "To silence this warning, decorate the function with @tf.autograph.experimental.do_not_convert\n",
      "WARNING: AutoGraph could not transform <function Model.make_test_function.<locals>.test_function at 0x7fed58d8a1e0> and will run it as-is.\n",
      "Please report this to the TensorFlow team. When filing the bug, set the verbosity to 10 (on Linux, `export AUTOGRAPH_VERBOSITY=10`) and attach the full output.\n",
      "Cause: 'arguments' object has no attribute 'posonlyargs'\n",
      "To silence this warning, decorate the function with @tf.autograph.experimental.do_not_convert\n",
      "30/30 [==============================] - 4s 92ms/step - loss: 0.9059 - mae: 0.6821 - mse: 0.9059\n",
      "WARNING:tensorflow:AutoGraph could not transform <function Model.make_test_function.<locals>.test_function at 0x7fed4b759ae8> and will run it as-is.\n",
      "Please report this to the TensorFlow team. When filing the bug, set the verbosity to 10 (on Linux, `export AUTOGRAPH_VERBOSITY=10`) and attach the full output.\n",
      "Cause: 'arguments' object has no attribute 'posonlyargs'\n",
      "To silence this warning, decorate the function with @tf.autograph.experimental.do_not_convert\n",
      "WARNING: AutoGraph could not transform <function Model.make_test_function.<locals>.test_function at 0x7fed4b759ae8> and will run it as-is.\n",
      "Please report this to the TensorFlow team. When filing the bug, set the verbosity to 10 (on Linux, `export AUTOGRAPH_VERBOSITY=10`) and attach the full output.\n",
      "Cause: 'arguments' object has no attribute 'posonlyargs'\n",
      "To silence this warning, decorate the function with @tf.autograph.experimental.do_not_convert\n",
      "30/30 [==============================] - 4s 103ms/step - loss: 1.0306 - mae: 0.6987 - mse: 1.0306\n",
      "WARNING:tensorflow:AutoGraph could not transform <function Model.make_test_function.<locals>.test_function at 0x7fed5b352ae8> and will run it as-is.\n",
      "Please report this to the TensorFlow team. When filing the bug, set the verbosity to 10 (on Linux, `export AUTOGRAPH_VERBOSITY=10`) and attach the full output.\n",
      "Cause: 'arguments' object has no attribute 'posonlyargs'\n",
      "To silence this warning, decorate the function with @tf.autograph.experimental.do_not_convert\n",
      "WARNING: AutoGraph could not transform <function Model.make_test_function.<locals>.test_function at 0x7fed5b352ae8> and will run it as-is.\n",
      "Please report this to the TensorFlow team. When filing the bug, set the verbosity to 10 (on Linux, `export AUTOGRAPH_VERBOSITY=10`) and attach the full output.\n",
      "Cause: 'arguments' object has no attribute 'posonlyargs'\n",
      "To silence this warning, decorate the function with @tf.autograph.experimental.do_not_convert\n",
      "30/30 [==============================] - 4s 101ms/step - loss: 0.9814 - mae: 0.6867 - mse: 0.9814\n",
      "WARNING:tensorflow:AutoGraph could not transform <function Model.make_test_function.<locals>.test_function at 0x7fed5c33e0d0> and will run it as-is.\n",
      "Please report this to the TensorFlow team. When filing the bug, set the verbosity to 10 (on Linux, `export AUTOGRAPH_VERBOSITY=10`) and attach the full output.\n",
      "Cause: 'arguments' object has no attribute 'posonlyargs'\n",
      "To silence this warning, decorate the function with @tf.autograph.experimental.do_not_convert\n",
      "WARNING: AutoGraph could not transform <function Model.make_test_function.<locals>.test_function at 0x7fed5c33e0d0> and will run it as-is.\n",
      "Please report this to the TensorFlow team. When filing the bug, set the verbosity to 10 (on Linux, `export AUTOGRAPH_VERBOSITY=10`) and attach the full output.\n",
      "Cause: 'arguments' object has no attribute 'posonlyargs'\n",
      "To silence this warning, decorate the function with @tf.autograph.experimental.do_not_convert\n",
      "30/30 [==============================] - 4s 94ms/step - loss: 1.0369 - mae: 0.6961 - mse: 1.0369\n",
      "Average MAE: 0.6921310424804688\n"
     ]
    }
   ],
   "source": [
    "from sklearn.model_selection import KFold\n",
    "# Perform cross-validation\n",
    "k_fold = KFold(n_splits=5, shuffle=True, random_state=42)\n",
    "\n",
    "# Initialize a list to store the evaluation scores for each fold\n",
    "scores = []\n",
    "\n",
    "for train_indices, val_indices in k_fold.split(X):\n",
    "    # Split the data into training and validation sets\n",
    "    X_train, X_val = X[train_indices], X[val_indices]\n",
    "    Y_train, Y_val = Y[train_indices], Y[val_indices]\n",
    "\n",
    "    # Define the model architecture\n",
    "    input_layer = Input(shape=(maxlen,))\n",
    "    embedding_layer = Embedding(input_dim=5000, output_dim=128, input_length=maxlen)(input_layer)\n",
    "    lstm_layer = LSTM(128, dropout=0.2, recurrent_dropout=0.2, return_sequences=True)(embedding_layer)\n",
    "\n",
    "    # Attention Mechanism\n",
    "    attention_probs = Dense(128, activation='softmax', name='attention_probs')(lstm_layer)\n",
    "    attention_mul = dot([attention_probs, lstm_layer], axes=[1, 1])\n",
    "\n",
    "    flatten_layer = Flatten()(attention_mul)\n",
    "    output_layer = Dense(1, activation='linear')(flatten_layer)\n",
    "\n",
    "    model = Model(inputs=input_layer, outputs=output_layer)\n",
    "    model.compile(optimizer='adam', loss='mean_squared_error', metrics=['mae', 'mse'])\n",
    "\n",
    "    \n",
    "    # Evaluate the model on the validation set\n",
    "    scores.append(model.evaluate(X_val, Y_val)[1])\n",
    "\n",
    "# Calculate the average score\n",
    "average_score = np.mean(scores)\n",
    "print(\"Average MAE:\", average_score)"
   ]
  },
  {
   "cell_type": "code",
   "execution_count": 32,
   "metadata": {},
   "outputs": [
    {
     "name": "stdout",
     "output_type": "stream",
     "text": [
      "31/31 [==============================] - 3s 92ms/step - loss: 1.0593 - mae: 0.6942 - mse: 1.0593\n",
      "30/30 [==============================] - 3s 101ms/step - loss: 0.9028 - mae: 0.6727 - mse: 0.9028\n",
      "30/30 [==============================] - 3s 93ms/step - loss: 1.0331 - mae: 0.6973 - mse: 1.0331\n",
      "30/30 [==============================] - 3s 85ms/step - loss: 0.9778 - mae: 0.6786 - mse: 0.9778\n",
      "30/30 [==============================] - 3s 88ms/step - loss: 1.0369 - mae: 0.6961 - mse: 1.0369\n",
      "Average MAE: 0.6877885818481445\n",
      "   Fold       MAE\n",
      "0   1.0  0.694180\n",
      "1   2.0  0.672691\n",
      "2   3.0  0.697316\n",
      "3   4.0  0.678611\n",
      "4   5.0  0.696145\n"
     ]
    }
   ],
   "source": [
    "import pandas as pd\n",
    "import numpy as np\n",
    "from sklearn.model_selection import KFold\n",
    "\n",
    "# Perform cross-validation\n",
    "k_fold = KFold(n_splits=5, shuffle=True, random_state=42)\n",
    "\n",
    "# Create an empty DataFrame to store the evaluation scores\n",
    "df_scores = pd.DataFrame(columns=['Fold', 'MAE'])\n",
    "\n",
    "for fold, (train_indices, val_indices) in enumerate(k_fold.split(X), 1):\n",
    "    # Split the data into training and validation sets\n",
    "    X_train, X_val = X[train_indices], X[val_indices]\n",
    "    Y_train, Y_val = Y[train_indices], Y[val_indices]\n",
    "\n",
    "    # Model definition and compilation\n",
    "\n",
    "    # ...\n",
    "\n",
    "    # Evaluate the model on the validation set\n",
    "    fold_score = model.evaluate(X_val, Y_val)[1]\n",
    "\n",
    "    # Append fold score to the DataFrame\n",
    "    df_scores = df_scores.append({'Fold': fold, 'MAE': fold_score}, ignore_index=True)\n",
    "\n",
    "# Calculate the average score\n",
    "average_score = df_scores['MAE'].mean()\n",
    "print(\"Average MAE:\", average_score)\n",
    "print(df_scores)\n",
    "\n"
   ]
  },
  {
   "cell_type": "code",
   "execution_count": 33,
   "metadata": {},
   "outputs": [
    {
     "data": {
      "image/png": "[encoded data removed]",
      "text/plain": [
       "<Figure size 576x432 with 1 Axes>"
      ]
     },
     "metadata": {
      "needs_background": "light"
     },
     "output_type": "display_data"
    },
    {
     "data": {
      "image/png": "[encoded data removed]",
      "text/plain": [
       "<Figure size 576x432 with 1 Axes>"
      ]
     },
     "metadata": {
      "needs_background": "light"
     },
     "output_type": "display_data"
    }
   ],
   "source": [
    "import matplotlib.pyplot as plt\n",
    "import pandas as pd\n",
    "\n",
    "# Cross-validation results\n",
    "data = {'Fold': [1, 2, 3, 4, 5],\n",
    "        'MAE': [0.693295, 0.670390, 0.695852, 0.675832, 0.695453]}\n",
    "\n",
    "# Create a DataFrame from the data\n",
    "df = pd.DataFrame(data)\n",
    "\n",
    "# Bar plot for MAE scores\n",
    "plt.figure(figsize=(8, 6))\n",
    "plt.bar(df['Fold'], df['MAE'])\n",
    "plt.xlabel('Fold')\n",
    "plt.ylabel('MAE')\n",
    "plt.title('Cross-Validation Results - MAE Scores')\n",
    "plt.show()\n",
    "\n",
    "# Box plot for RMSE scores\n",
    "rmse_scores = [1.1746, 1.2045, 1.2171, 1.1960, 1.1827]\n",
    "plt.figure(figsize=(8, 6))\n",
    "plt.boxplot(rmse_scores)\n",
    "plt.xlabel('RMSE')\n",
    "plt.title('Cross-Validation Results - RMSE Scores')\n",
    "plt.show()\n",
    "\n"
   ]
  },
  {
   "cell_type": "code",
   "execution_count": 34,
   "metadata": {},
   "outputs": [
    {
     "data": {
      "image/png": "[encoded data removed]",
      "text/plain": [
       "<Figure size 576x432 with 1 Axes>"
      ]
     },
     "metadata": {
      "needs_background": "light"
     },
     "output_type": "display_data"
    },
    {
     "data": {
      "image/png": "[encoded data removed]",
      "text/plain": [
       "<Figure size 576x432 with 1 Axes>"
      ]
     },
     "metadata": {
      "needs_background": "light"
     },
     "output_type": "display_data"
    }
   ],
   "source": [
    "# Data for cross-validation 1\n",
    "cv1_data = {\n",
    "    'Fold': [1, 2, 3, 4, 5],\n",
    "    'MAE': [0.693295, 0.670390, 0.695852, 0.675832, 0.695453,]\n",
    "}\n",
    "\n",
    "# Data for cross-validation 2\n",
    "cv2_data = {\n",
    "    'Fold': [1, 2, 3, 4, 5],\n",
    "    'MAE': [1.1746, 1.2045, 1.2171, 1.1960, 1.1827]\n",
    "}\n",
    "\n",
    "# Create a figure and axes\n",
    "fig, ax = plt.subplots(figsize=(8, 6))\n",
    "# Plot the bar chart for cross-validation 1\n",
    "ax.bar(cv1_data['Fold'], cv1_data['MAE'], label='Deep_Learning_Recommende_System', width=0.4, align='center')\n",
    "# Plot the bar chart for cross-validation 2\n",
    "ax.bar(np.array(cv2_data['Fold']) + 0.4, cv2_data['MAE'], label='Traditional_Recommende_System', width=0.4, align='center')\n",
    "# Add labels and title\n",
    "ax.set_xlabel('Fold')\n",
    "ax.set_ylabel('MAE Score')\n",
    "ax.set_title('Comparison of Cross-Validation Results')\n",
    "# Add legend\n",
    "ax.legend()\n",
    "# Show the plot\n",
    "plt.show()\n",
    "\n",
    "# Create a figure and axes\n",
    "fig, ax = plt.subplots(figsize=(8, 6))\n",
    "# Plot the line chart for cross-validation 1\n",
    "ax.plot(cv1_data['Fold'], cv1_data['MAE'], marker='o', label='Deep_Learning_Recommende_System')\n",
    "# Plot the line chart for cross-validation 2\n",
    "ax.plot(cv2_data['Fold'], cv2_data['MAE'], marker='o', label='Traditional_Recommende_System')\n",
    "# Add labels and title\n",
    "ax.set_xlabel('Fold')\n",
    "ax.set_ylabel('MAE Score')\n",
    "ax.set_title('Trend of Cross-Validation MAE Scores')\n",
    "# Add legend\n",
    "ax.legend()\n",
    "# Show the plot\n",
    "plt.show()"
   ]
  },
  {
   "cell_type": "code",
   "execution_count": null,
   "metadata": {},
   "outputs": [],
   "source": []
  }
 ],
 "metadata": {
  "kernelspec": {
   "display_name": "Python 3 (ipykernel)",
   "language": "python",
   "name": "python3"
  },
  "language_info": {
   "codemirror_mode": {
    "name": "ipython",
    "version": 3
   },
   "file_extension": ".py",
   "mimetype": "text/x-python",
   "name": "python",
   "nbconvert_exporter": "python",
   "pygments_lexer": "ipython3",
   "version": "3.7.2"
  }
 },
 "nbformat": 4,
 "nbformat_minor": 2
}
